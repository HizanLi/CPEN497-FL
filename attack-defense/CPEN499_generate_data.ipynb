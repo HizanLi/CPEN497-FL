{
  "cells": [
    {
      "cell_type": "markdown",
      "metadata": {
        "id": "iMUR8ODgnrc3"
      },
      "source": [
        "# The notebook contains\n",
        "### Code for _Bulyan_ aggregation algorithm, *when gradient updates of benign clients are unknown to adversary*\n",
        "### Evaluation of all of the attacks (Fang, LIE, and our SOTA AGR-tailored and AGR-agnstic) on Bulyan"
      ]
    },
    {
      "cell_type": "markdown",
      "metadata": {
        "id": "pJu2Edmbnrc5"
      },
      "source": [
        "## Import packages"
      ]
    },
    {
      "cell_type": "code",
      "execution_count": 17,
      "metadata": {
        "colab": {
          "base_uri": "https://localhost:8080/",
          "height": 17
        },
        "id": "wGSIzpf_nrc5",
        "outputId": "5563fc08-740b-4522-8ba9-41e940ec060e"
      },
      "outputs": [
        {
          "data": {
            "text/html": [
              "<style>.container { width:90% !important; }</style>"
            ],
            "text/plain": [
              "<IPython.core.display.HTML object>"
            ]
          },
          "metadata": {},
          "output_type": "display_data"
        }
      ],
      "source": [
        "from IPython.display import display, HTML\n",
        "display(HTML(\"<style>.container { width:90% !important; }</style>\"))"
      ]
    },
    {
      "cell_type": "code",
      "execution_count": 18,
      "metadata": {
        "id": "AAU3fosynrc6"
      },
      "outputs": [],
      "source": [
        "from __future__ import print_function\n",
        "import argparse, os, sys, csv, shutil, time, random, operator, pickle, ast, math\n",
        "import numpy as np\n",
        "import pandas as pd\n",
        "from torch.optim import Optimizer\n",
        "import torch.nn.functional as F\n",
        "import torch\n",
        "import pickle\n",
        "import torch.nn as nn\n",
        "import torch.nn.parallel\n",
        "import torch.backends.cudnn as cudnn\n",
        "import torch.optim as optim\n",
        "import torch.utils.data as data\n",
        "import torch.multiprocessing as mp\n",
        "import math\n",
        "sys.path.insert(0,'./../utils/')\n",
        "from logger import *\n",
        "from eval import *\n",
        "from misc import *\n",
        "\n",
        "from cifar10_normal_train import *\n",
        "from cifar10_util import *\n",
        "from adam import Adam\n",
        "from sgd import SGD\n"
      ]
    },
    {
      "cell_type": "markdown",
      "metadata": {},
      "source": [
        "## Data split\n",
        "Divide cifar10 data among 50 clients in Non-IID fashion using Dirichlet distribution\n",
        "\n",
        "Graph the distribution of classes for each user"
      ]
    },
    {
      "cell_type": "code",
      "execution_count": 19,
      "metadata": {},
      "outputs": [
        {
          "name": "stdout",
          "output_type": "stream",
          "text": [
            "Files already downloaded and verified\n",
            "Files already downloaded and verified\n"
          ]
        }
      ],
      "source": [
        "import torchvision.transforms as transforms\n",
        "import torchvision.datasets as datasets\n",
        "data_loc='/mnt/nfs/work1/amir/vshejwalkar/cifar10_data/'\n",
        "# load the train dataset\n",
        "\n",
        "train_transform = transforms.Compose([\n",
        "        transforms.ToTensor(),\n",
        "        transforms.Normalize((0.4914, 0.4822, 0.4465), (0.2023, 0.1994, 0.2010)),\n",
        "    ])\n",
        "\n",
        "cifar10_train = datasets.CIFAR10(root=data_loc, train=True, download=True, transform=train_transform)\n",
        "\n",
        "cifar10_test = datasets.CIFAR10(root=data_loc, train=False, download=True, transform=train_transform)\n"
      ]
    },
    {
      "cell_type": "code",
      "execution_count": 20,
      "metadata": {},
      "outputs": [],
      "source": [
        "total_tr_len = len(cifar10_train)\n",
        "\n",
        "X={}\n",
        "Y=[]\n",
        "for i in range(len(cifar10_train)):\n",
        "    data = cifar10_train[i][0].numpy()\n",
        "    label = cifar10_train[i][1]\n",
        "\n",
        "    if label in X:\n",
        "        X[label].append(data)\n",
        "    else:\n",
        "        X[label] = []\n",
        "        X[label].append(data)\n",
        "        Y.append(label)\n",
        "\n",
        "for label in X:\n",
        "    X[label] = np.array(X[label])\n",
        "Y=np.array(Y)\n",
        "\n",
        "alpha = 1\n",
        "n_users = 50"
      ]
    },
    {
      "cell_type": "code",
      "execution_count": 21,
      "metadata": {},
      "outputs": [
        {
          "name": "stdout",
          "output_type": "stream",
          "text": [
            "user 0 has 1176 train data, and 1176 train labels\n",
            "user 1 has 1540 train data, and 1540 train labels\n",
            "user 2 has 595 train data, and 595 train labels\n",
            "user 3 has 1008 train data, and 1008 train labels\n",
            "user 4 has 987 train data, and 987 train labels\n",
            "user 5 has 2321 train data, and 2321 train labels\n",
            "user 6 has 809 train data, and 809 train labels\n",
            "user 7 has 968 train data, and 968 train labels\n",
            "user 8 has 638 train data, and 638 train labels\n",
            "user 9 has 646 train data, and 646 train labels\n",
            "user 10 has 1070 train data, and 1070 train labels\n",
            "user 11 has 1089 train data, and 1089 train labels\n",
            "user 12 has 797 train data, and 797 train labels\n",
            "user 13 has 1382 train data, and 1382 train labels\n",
            "user 14 has 1261 train data, and 1261 train labels\n",
            "user 15 has 594 train data, and 594 train labels\n",
            "user 16 has 883 train data, and 883 train labels\n",
            "user 17 has 1382 train data, and 1382 train labels\n",
            "user 18 has 648 train data, and 648 train labels\n",
            "user 19 has 780 train data, and 780 train labels\n",
            "user 20 has 794 train data, and 794 train labels\n",
            "user 21 has 881 train data, and 881 train labels\n",
            "user 22 has 882 train data, and 882 train labels\n",
            "user 23 has 1241 train data, and 1241 train labels\n",
            "user 24 has 800 train data, and 800 train labels\n",
            "user 25 has 812 train data, and 812 train labels\n",
            "user 26 has 1137 train data, and 1137 train labels\n",
            "user 27 has 1443 train data, and 1443 train labels\n",
            "user 28 has 677 train data, and 677 train labels\n",
            "user 29 has 672 train data, and 672 train labels\n",
            "user 30 has 1154 train data, and 1154 train labels\n",
            "user 31 has 800 train data, and 800 train labels\n",
            "user 32 has 649 train data, and 649 train labels\n",
            "user 33 has 995 train data, and 995 train labels\n",
            "user 34 has 1189 train data, and 1189 train labels\n",
            "user 35 has 1012 train data, and 1012 train labels\n",
            "user 36 has 1165 train data, and 1165 train labels\n",
            "user 37 has 1303 train data, and 1303 train labels\n",
            "user 38 has 783 train data, and 783 train labels\n",
            "user 39 has 1196 train data, and 1196 train labels\n",
            "user 40 has 1474 train data, and 1474 train labels\n",
            "user 41 has 1133 train data, and 1133 train labels\n",
            "user 42 has 782 train data, and 782 train labels\n",
            "user 43 has 1091 train data, and 1091 train labels\n",
            "user 44 has 1204 train data, and 1204 train labels\n",
            "user 45 has 863 train data, and 863 train labels\n",
            "user 46 has 364 train data, and 364 train labels\n",
            "user 47 has 698 train data, and 698 train labels\n",
            "user 48 has 834 train data, and 834 train labels\n",
            "user 49 has 1398 train data, and 1398 train labels\n"
          ]
        }
      ],
      "source": [
        "user_train_data_non_tensors = [[] for _ in range(n_users)]\n",
        "user_train_label_non_tensors = [[] for _ in range(n_users)]\n",
        "\n",
        "for label in Y:\n",
        "    alpha_list = [alpha for _ in range(n_users)]\n",
        "    probs = np.random.dirichlet(alpha_list)\n",
        "\n",
        "    taken_index = 0\n",
        "\n",
        "    for i, prob in enumerate(probs):\n",
        "        if i == n_users - 1:\n",
        "            user_train_data_non_tensors[i].extend(X[label][taken_index:])\n",
        "            user_train_label_non_tensors[i].extend([label for _ in range(len(X[label]) - taken_index)])\n",
        "        else:\n",
        "            n_sample = math.floor(prob * len(X[label]))\n",
        "\n",
        "            user_train_data_non_tensors[i].extend(X[label][taken_index : taken_index + n_sample])\n",
        "            user_train_label_non_tensors[i].extend([label for _ in range(n_sample)])\n",
        "            taken_index += n_sample\n",
        "\n",
        "user_train_data_tensors = []\n",
        "user_train_label_tensors = []\n",
        "\n",
        "user_tr_len = []\n",
        "\n",
        "for i in range(n_users):\n",
        "\n",
        "    if len(user_train_data_non_tensors[i]) != len(user_train_label_non_tensors[i]):\n",
        "        sys.exit(f\"Shape does not match user_train_data_non_tensors[i] hsa {len(user_train_data_non_tensors[i])}, while user_train_label_non_tensors[i] has {len(user_train_label_non_tensors[i])}\")\n",
        "\n",
        "\n",
        "    num_data = len(user_train_data_non_tensors[i])\n",
        "    user_tr_len.append(num_data)\n",
        "\n",
        "    user_train_data_tensors.append(torch.from_numpy(np.array(user_train_data_non_tensors[i])).type(torch.FloatTensor))\n",
        "    user_train_label_tensors.append(torch.from_numpy(np.array(user_train_label_non_tensors[i])).type(torch.LongTensor))\n",
        "\n",
        "    r=np.arange(num_data)\n",
        "\n",
        "    np.random.shuffle(r)\n",
        "\n",
        "    user_train_data_tensors[i] = user_train_data_tensors[i][r]\n",
        "    user_train_label_tensors[i] = user_train_label_tensors[i][r]\n",
        "\n",
        "    print(f'user {i} has {user_train_data_tensors[i].shape[0]} train data, and {user_train_label_tensors[i].shape[0]} train labels')\n",
        "\n"
      ]
    },
    {
      "cell_type": "code",
      "execution_count": 22,
      "metadata": {},
      "outputs": [],
      "source": [
        "X2 = []\n",
        "Y2 = []\n",
        "\n",
        "for i in range(len(cifar10_test)):\n",
        "    X2.append(cifar10_test[i][0].numpy())\n",
        "    Y2.append(cifar10_test[i][1])\n",
        "\n",
        "X2=np.array(X2)\n",
        "Y2=np.array(Y2)\n",
        "\n",
        "half_index = len(X2) // 2\n",
        "\n",
        "val_data= X2[:half_index]\n",
        "val_label= Y2[:half_index]\n",
        "\n",
        "te_data=X2[half_index:]\n",
        "te_label=Y2[half_index:]\n",
        "\n",
        "val_data_tensor=torch.from_numpy(val_data).type(torch.FloatTensor)\n",
        "val_label_tensor=torch.from_numpy(val_label).type(torch.LongTensor)\n",
        "\n",
        "te_data_tensor=torch.from_numpy(te_data).type(torch.FloatTensor)\n",
        "te_label_tensor=torch.from_numpy(te_label).type(torch.LongTensor)"
      ]
    },
    {
      "cell_type": "code",
      "execution_count": 23,
      "metadata": {},
      "outputs": [],
      "source": [
        "pickle.dump(user_tr_len, open('./data/user_tr_len.pkl', 'wb'))\n",
        "\n",
        "pickle.dump(user_train_data_tensors,open('./data/user_train_data_tensors.pkl','wb'))\n",
        "pickle.dump(user_train_label_tensors,open('./data/user_train_label_tensors.pkl','wb'))\n",
        "\n",
        "pickle.dump(val_data_tensor,open('./data/val_data_tensor.pkl','wb'))\n",
        "pickle.dump(val_label_tensor,open('./data/val_label_tensor.pkl','wb'))\n",
        "pickle.dump(te_data_tensor,open('./data/te_data_tensor.pkl','wb'))\n",
        "pickle.dump(te_label_tensor,open('./data/te_label_tensor.pkl','wb'))"
      ]
    },
    {
      "cell_type": "code",
      "execution_count": 24,
      "metadata": {},
      "outputs": [
        {
          "data": {
            "image/png": "[encoded data removed]",
            "text/plain": [
              "<Figure size 1000x600 with 1 Axes>"
            ]
          },
          "metadata": {},
          "output_type": "display_data"
        }
      ],
      "source": [
        "import matplotlib.pyplot as plt\n",
        "import numpy as np\n",
        "from PIL import Image\n",
        "\n",
        "# Example data\n",
        "users = [f\"user {i}\" for i in range(50)]\n",
        "labels = [f\"label {i}\" for i in range(10)]\n",
        "\n",
        "\n",
        "percentages = []\n",
        "for user_data in user_train_label_non_tensors:\n",
        "    temp_holder = []\n",
        "    for label in range(10):\n",
        "        temp_holder.append(user_data.count(label))\n",
        "    percentages.append(temp_holder)\n",
        "\n",
        "percentages = np.array(percentages)\n",
        "\n",
        "# Assuming 'percentages' is populated correctly as shown previously\n",
        "# Convert percentages to cumulative sum for stacking\n",
        "cumulative = np.cumsum(percentages, axis=1)\n",
        "\n",
        "# Plot\n",
        "fig, ax = plt.subplots(figsize=(10, 6))\n",
        "\n",
        "# Colors for each ethnicity, ensuring there are enough colors for all labels\n",
        "colors = plt.cm.Paired(range(len(labels))) # Repeating colors to match the number of labels\n",
        "\n",
        "# Create stacked bars\n",
        "for i in range(len(labels)):  # Iterate over the number of labels\n",
        "    if i == 0:\n",
        "        ax.bar(users, percentages[:, i], color=colors[i], label=labels[i])\n",
        "    else:\n",
        "        ax.bar(users, percentages[:, i], bottom=cumulative[:, i-1], color=colors[i], label=labels[i])\n",
        "\n",
        "# Add some text for labels, title, and custom x-axis tick labels, etc.\n",
        "ax.set_ylabel('Percentage')\n",
        "ax.set_title('Stacked Percentage Bar Chart by User and Label')\n",
        "ax.set_xticks(np.arange(len(users)))\n",
        "ax.set_xticklabels(users, rotation=90)  # Rotate labels if needed\n",
        "ax.legend()\n",
        "\n",
        "\n",
        "plt.savefig('./data/non_iid_user_label_distribution.png', bbox_inches='tight')\n",
        "plt.show()\n"
      ]
    }
  ],
  "metadata": {
    "accelerator": "GPU",
    "colab": {
      "collapsed_sections": [
        "ilTYNiZMlvp4",
        "8mZBn-_AaaTL"
      ],
      "gpuType": "T4",
      "provenance": []
    },
    "kernelspec": {
      "display_name": "Python 3",
      "name": "python3"
    },
    "language_info": {
      "codemirror_mode": {
        "name": "ipython",
        "version": 3
      },
      "file_extension": ".py",
      "mimetype": "text/x-python",
      "name": "python",
      "nbconvert_exporter": "python",
      "pygments_lexer": "ipython3",
      "version": "3.9.18"
    }
  },
  "nbformat": 4,
  "nbformat_minor": 0
}
