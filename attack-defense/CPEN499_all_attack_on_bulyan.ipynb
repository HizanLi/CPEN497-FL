{
  "cells": [
    {
      "cell_type": "markdown",
      "metadata": {
        "id": "iMUR8ODgnrc3"
      },
      "source": [
        "# The notebook contains\n",
        "### Code for _Bulyan_ aggregation algorithm, *when gradient updates of benign clients are unknown to adversary*\n",
        "### Evaluation of all of the attacks (Fang, LIE, and our SOTA AGR-tailored and AGR-agnstic) on Bulyan"
      ]
    },
    {
      "cell_type": "markdown",
      "metadata": {
        "id": "pJu2Edmbnrc5"
      },
      "source": [
        "## Import packages"
      ]
    },
    {
      "cell_type": "code",
      "execution_count": 8,
      "metadata": {
        "colab": {
          "base_uri": "https://localhost:8080/",
          "height": 17
        },
        "id": "wGSIzpf_nrc5",
        "outputId": "5563fc08-740b-4522-8ba9-41e940ec060e"
      },
      "outputs": [
        {
          "data": {
            "text/html": [
              "<style>.container { width:90% !important; }</style>"
            ],
            "text/plain": [
              "<IPython.core.display.HTML object>"
            ]
          },
          "metadata": {},
          "output_type": "display_data"
        }
      ],
      "source": [
        "from IPython.display import display, HTML\n",
        "display(HTML(\"<style>.container { width:90% !important; }</style>\"))"
      ]
    },
    {
      "cell_type": "code",
      "execution_count": 9,
      "metadata": {
        "id": "AAU3fosynrc6"
      },
      "outputs": [],
      "source": [
        "from __future__ import print_function\n",
        "import argparse, os, sys, csv, shutil, time, random, operator, pickle, ast, math\n",
        "import numpy as np\n",
        "import pandas as pd\n",
        "from torch.optim import Optimizer\n",
        "import torch.nn.functional as F\n",
        "import torch\n",
        "import pickle\n",
        "import torch.nn as nn\n",
        "import torch.nn.parallel\n",
        "import torch.backends.cudnn as cudnn\n",
        "import torch.optim as optim\n",
        "import torch.utils.data as data\n",
        "import torch.multiprocessing as mp\n",
        "import math\n",
        "sys.path.insert(0,'./../utils/')\n",
        "from logger import *\n",
        "from eval import *\n",
        "from misc import *\n",
        "\n",
        "from cifar10_normal_train import *\n",
        "from cifar10_util import *\n",
        "from adam import Adam\n",
        "from sgd import SGD\n"
      ]
    },
    {
      "cell_type": "markdown",
      "metadata": {
        "id": "rGABIvW6nrc6"
      },
      "source": [
        "## Load Data\n",
        "Divide cifar10 data among 50 clients in Non-IID fashion using Dirichlet distribution"
      ]
    },
    {
      "cell_type": "code",
      "execution_count": 10,
      "metadata": {
        "colab": {
          "base_uri": "https://localhost:8080/"
        },
        "id": "n1Nyn5Xlnrc6",
        "outputId": "2148c44a-9897-41f6-bf92-67d798026810"
      },
      "outputs": [],
      "source": [
        "nusers = 50\n",
        "user_tr_len = pickle.load(open('./data/user_tr_len.pkl','rb'))\n",
        "\n",
        "user_train_data_tensors = pickle.load(open('./data/user_train_data_tensors.pkl','rb'))\n",
        "user_train_label_tensors = pickle.load(open('./data/user_train_label_tensors.pkl','rb'))\n",
        "\n",
        "val_data_tensor = pickle.load(open('./data/val_data_tensor.pkl','rb'))\n",
        "val_label_tensor = pickle.load(open('./data/val_label_tensor.pkl','rb'))\n",
        "te_data_tensor = pickle.load(open('./data/te_data_tensor.pkl','rb'))\n",
        "te_label_tensor = pickle.load(open('./data/te_label_tensor.pkl','rb'))"
      ]
    },
    {
      "cell_type": "markdown",
      "metadata": {},
      "source": [
        "## Our Aggregation Function"
      ]
    },
    {
      "cell_type": "code",
      "execution_count": 11,
      "metadata": {},
      "outputs": [],
      "source": [
        "def our_mean_defense(all_updates, n_attackers, history_updates):\n",
        "    discarded_history = get_discarded_index(n_attackers, history_updates)\n",
        "\n",
        "    mask = torch.ones(all_updates.size(0), dtype=torch.bool)\n",
        "    mask[discarded_history] = False\n",
        "    remaining_updates = all_updates[mask]\n",
        "\n",
        "    print('discarded index', discarded_history)\n",
        "\n",
        "    return torch.nanmean(remaining_updates, dim=0)\n",
        "\n",
        "####\n",
        "def euclidean_distance(row1, row2):\n",
        "    return torch.sqrt(torch.sum((row1 - row2) ** 2))\n",
        "####\n",
        "\n",
        "def get_discarded_index(n_attackers, history_updates):\n",
        "    n_users = history_updates.shape[0]\n",
        "\n",
        "    ####\n",
        "    distance_matrix = [[0 if i == j else euclidean_distance(history_updates[i, :], history_updates[j, :]) for j in range(n_users)] for i in range(n_users)]\n",
        "    ####\n",
        "\n",
        "    sum_of_distances = [sum(row) for row in distance_matrix]\n",
        "\n",
        "    discarded_history = []\n",
        "    for _ in range(n_attackers):\n",
        "        max_distance = max(sum_of_distances)\n",
        "        index_of_max_distance = sum_of_distances.index(max_distance)\n",
        "        discarded_history.append(index_of_max_distance)\n",
        "\n",
        "        for i in range(n_users):\n",
        "            sum_of_distances[i] -= distance_matrix[i][index_of_max_distance]\n",
        "        sum_of_distances[index_of_max_distance] = -1\n",
        "\n",
        "    return discarded_history\n"
      ]
    },
    {
      "cell_type": "markdown",
      "metadata": {},
      "source": [
        "## Code for Multi-krum aggregation algorithm"
      ]
    },
    {
      "cell_type": "code",
      "execution_count": 12,
      "metadata": {},
      "outputs": [],
      "source": [
        "def multi_krum(all_updates, n_attackers, multi_k=False):\n",
        "\n",
        "    candidates = []\n",
        "    candidate_indices = []\n",
        "    remaining_updates = all_updates\n",
        "    all_indices = np.arange(len(all_updates))\n",
        "\n",
        "    while len(remaining_updates) > 2 * n_attackers + 2:\n",
        "        torch.cuda.empty_cache()\n",
        "        distances = []\n",
        "        for update in remaining_updates:\n",
        "            distance = []\n",
        "            for update_ in remaining_updates:\n",
        "                distance.append(torch.norm((update - update_)) ** 2)\n",
        "            distance = torch.Tensor(distance).float()\n",
        "            distances = distance[None, :] if not len(distances) else torch.cat((distances, distance[None, :]), 0)\n",
        "\n",
        "        distances = torch.sort(distances, dim=1)[0]\n",
        "        scores = torch.sum(distances[:, :len(remaining_updates) - 2 - n_attackers], dim=1)\n",
        "        indices = torch.argsort(scores)[:len(remaining_updates) - 2 - n_attackers]\n",
        "\n",
        "        candidate_indices.append(all_indices[indices[0].cpu().numpy()])\n",
        "        all_indices = np.delete(all_indices, indices[0].cpu().numpy())\n",
        "        candidates = remaining_updates[indices[0]][None, :] if not len(candidates) else torch.cat((candidates, remaining_updates[indices[0]][None, :]), 0)\n",
        "        remaining_updates = torch.cat((remaining_updates[:indices[0]], remaining_updates[indices[0] + 1:]), 0)\n",
        "        if not multi_k:\n",
        "            break\n",
        "    # print(len(remaining_updates))\n",
        "\n",
        "    aggregate = torch.mean(candidates, dim=0)\n",
        "\n",
        "    return aggregate, np.array(candidate_indices)"
      ]
    },
    {
      "cell_type": "markdown",
      "metadata": {},
      "source": [
        "## Code for Bulyan aggregation algorithm"
      ]
    },
    {
      "cell_type": "code",
      "execution_count": 13,
      "metadata": {},
      "outputs": [],
      "source": [
        "def bulyan(all_updates, n_attackers):\n",
        "    nusers = all_updates.shape[0]\n",
        "    bulyan_cluster = []\n",
        "    candidate_indices = []\n",
        "    remaining_updates = all_updates\n",
        "    all_indices = np.arange(len(all_updates))\n",
        "\n",
        "    while len(bulyan_cluster) < (nusers - 2 * n_attackers):\n",
        "        torch.cuda.empty_cache()\n",
        "        distances = []\n",
        "        for update in remaining_updates:\n",
        "            distance = []\n",
        "            for update_ in remaining_updates:\n",
        "                distance.append(torch.norm((update - update_)) ** 2)\n",
        "            distance = torch.Tensor(distance).float()\n",
        "            distances = distance[None, :] if not len(distances) else torch.cat((distances, distance[None, :]), 0)\n",
        "        # print(distances)\n",
        "\n",
        "        distances = torch.sort(distances, dim=1)[0]\n",
        "\n",
        "        scores = torch.sum(distances[:, :len(remaining_updates) - 2 - n_attackers], dim=1)\n",
        "        indices = torch.argsort(scores)[:len(remaining_updates) - 2 - n_attackers]\n",
        "        if not len(indices):\n",
        "            break\n",
        "        candidate_indices.append(all_indices[indices[0].cpu().numpy()])\n",
        "        all_indices = np.delete(all_indices, indices[0].cpu().numpy())\n",
        "        bulyan_cluster = remaining_updates[indices[0]][None, :] if not len(bulyan_cluster) else torch.cat((bulyan_cluster, remaining_updates[indices[0]][None, :]), 0)\n",
        "        remaining_updates = torch.cat((remaining_updates[:indices[0]], remaining_updates[indices[0] + 1:]), 0)\n",
        "\n",
        "    # print('dim of bulyan cluster ', bulyan_cluster.shape)\n",
        "\n",
        "    n, d = bulyan_cluster.shape\n",
        "    param_med = torch.median(bulyan_cluster, dim=0)[0]\n",
        "    sort_idx = torch.argsort(torch.abs(bulyan_cluster - param_med), dim=0)\n",
        "    sorted_params = bulyan_cluster[sort_idx, torch.arange(d)[None, :]]\n",
        "\n",
        "    return torch.mean(sorted_params[:n - 2 * n_attackers], dim=0), np.array(candidate_indices)"
      ]
    },
    {
      "cell_type": "markdown",
      "metadata": {},
      "source": [
        "## our_attack_mean\n",
        "$ argmin_\\theta(\\ -L(\\theta_{attacker(s)}) + \\lambda_1 |\\bar{\\theta_{abs\\ mean\\ benige\\ users}} - \\bar{\\theta_{abs\\ attacker(s)}}|$"
      ]
    },
    {
      "cell_type": "code",
      "execution_count": 14,
      "metadata": {},
      "outputs": [],
      "source": [
        "device = 'cuda:0'\n",
        "def check_condition(lambda1, prev_grad, loss_grad, history, all_updates, n_users, n_attacker, epoch_num):\n",
        "    loss_grad = loss_grad.to(device)\n",
        "    prev_grad = prev_grad.to(device)\n",
        "    new_grad = lambda1 * (loss_grad + prev_grad)\n",
        "\n",
        "    ####\n",
        "    mal_updates = torch.stack([new_grad.clone().detach() for _ in range(n_attacker)])\n",
        "    malicious_grads = torch.cat((mal_updates, all_updates[n_attacker:]), 0)\n",
        "\n",
        "    history_updates = history.clone().detach()\n",
        "    history_updates[:, epoch_num] = malicious_grads.abs().mean(dim=1, keepdim=True).squeeze()\n",
        "    ####\n",
        "\n",
        "    discarded_history = get_discarded_index(n_attacker+2, history_updates)\n",
        "\n",
        "    detected_mal = len([item for item in discarded_history if item < 10])\n",
        "    return detected_mal / len(discarded_history) <= n_attacker / n_users\n",
        "\n",
        "def find_upper_bound(lambda1, prev_grad, loss_grad, history, all_updates, n_users, n_attacker, epoch_num):\n",
        "    while check_condition(lambda1, prev_grad, loss_grad, history, all_updates, n_users, n_attacker, epoch_num):\n",
        "        lambda1 *= 2  # Exponentially increase lambda\n",
        "    return lambda1\n",
        "\n",
        "\n",
        "def projection(prev_grad, loss_grad, history, all_updates, n_users, n_attacker, epoch_num):\n",
        "    updates_abs_mean = all_updates.abs().mean(dim=1, keepdim=True)\n",
        "    median_value = torch.median(updates_abs_mean).item()\n",
        "\n",
        "    ####\n",
        "    history_updates = history.clone().detach()\n",
        "    history_updates[:, epoch_num] = updates_abs_mean.mean(dim=1, keepdim=True).squeeze()\n",
        "    ####\n",
        "\n",
        "    loss_grad = loss_grad.to(device)\n",
        "    prev_grad = prev_grad.to(device)\n",
        "\n",
        "    lambda_low = median_value/(prev_grad + loss_grad).abs().mean().item()\n",
        "    lambda_high = find_upper_bound(lambda_low, prev_grad, loss_grad, history_updates, all_updates, n_users, n_attacker, epoch_num)\n",
        "    if lambda_high < lambda_low:\n",
        "        lambda_high = lambda_low\n",
        "        print(\"SHOULD NEVER REACH THIS LINE\")\n",
        "        print('lambda_low: ', lambda_low, ' lambda_high: ', lambda_high)\n",
        "    tolerance = 1e-6\n",
        "\n",
        "    iterations_count = 0\n",
        "    while lambda_high - lambda_low > tolerance and iterations_count < 1:\n",
        "        lambda_mid = (lambda_low + lambda_high) / 2\n",
        "        if check_condition(lambda_mid, prev_grad, loss_grad, history_updates, all_updates, n_users, n_attacker, epoch_num):\n",
        "            lambda_low = lambda_mid\n",
        "        else:\n",
        "            lambda_high = lambda_mid\n",
        "        iterations_count += 1\n",
        "\n",
        "    lambda1 = lambda_low\n",
        "\n",
        "    return lambda1 * (prev_grad + loss_grad)\n",
        "\n",
        "def our_attack_mean(n_user, epoch_num, history_updates, all_updates, model_params, n_attacker, arch, criterion, user_train_data_tensors, user_train_label_tensors):\n",
        "    attacker_tr_data_tensor = user_train_data_tensors[0].cuda()\n",
        "    attacker_tr_label_tensor = user_train_label_tensors[0].cuda()\n",
        "\n",
        "    fed_model, _ = return_model(arch, 0.1, 0.9, parallel=False)\n",
        "    fed_model.eval()  # Ensure the model is in evaluation mode\n",
        "\n",
        "    new_grad = -all_updates[0].clone().detach().requires_grad_(True)\n",
        "    prev_grad = np.zeros(len(new_grad))\n",
        "    new_grad = projection(torch.from_numpy(prev_grad), new_grad, history_updates, all_updates, n_user, n_attacker, epoch_num)\n",
        "\n",
        "    for _ in range(10):\n",
        "        outputs = fed_model(attacker_tr_data_tensor)\n",
        "        loss = criterion(outputs, attacker_tr_label_tensor)\n",
        "\n",
        "        loss.backward(retain_graph=True)\n",
        "        param_grad = []\n",
        "        for param in fed_model.parameters():\n",
        "            param_grad.append(param.grad.view(-1).detach())\n",
        "\n",
        "        param_grad = torch.cat(param_grad)\n",
        "        prev_grad = new_grad\n",
        "        new_grad = projection(prev_grad, param_grad, history_updates, all_updates, n_user, n_attacker, epoch_num)\n",
        "\n",
        "        difference = torch.mean(torch.abs(new_grad - prev_grad)).item()\n",
        "        if difference < 1e-6:\n",
        "            # print(\"STOPPED! Difference is too small, stop finding best attack grad\")\n",
        "            break\n",
        "\n",
        "        fed_model.zero_grad()\n",
        "\n",
        "    result_attacker_grads = [new_grad.clone().detach() for _ in range(10)]\n",
        "    return torch.stack(result_attacker_grads).cuda()\n"
      ]
    },
    {
      "cell_type": "markdown",
      "metadata": {},
      "source": [
        "## our attack (10 attacker) + bulyan"
      ]
    },
    {
      "cell_type": "code",
      "execution_count": 15,
      "metadata": {},
      "outputs": [],
      "source": [
        "nepochs = 5"
      ]
    },
    {
      "cell_type": "code",
      "execution_count": 16,
      "metadata": {},
      "outputs": [
        {
          "name": "stderr",
          "output_type": "stream",
          "text": [
            "c:\\Users\\Hizan\\Desktop\\CPEN497-FL\\attack-defense\\sgd.py:109: UserWarning: This overload of add_ is deprecated:\n",
            "\tadd_(Number alpha, Tensor other)\n",
            "Consider using one of the following signatures instead:\n",
            "\tadd_(Tensor other, *, Number alpha) (Triggered internally at C:\\cb\\pytorch_1000000000000\\work\\torch\\csrc\\utils\\python_arg_parser.cpp:1630.)\n",
            "  p.data.add_(-group['lr'], d_p)\n",
            "C:\\Users\\Hizan\\AppData\\Local\\Temp\\ipykernel_5552\\1784512944.py:128: FutureWarning: The behavior of DataFrame concatenation with empty or all-NA entries is deprecated. In a future version, this will no longer exclude empty or all-NA columns when determining the result dtypes. To retain the old behavior, exclude the relevant entries before the concat operation.\n",
            "  df = pd.concat([df, new_row], ignore_index=True)\n"
          ]
        },
        {
          "name": "stdout",
          "output_type": "stream",
          "text": [
            "epoch: 0, bulyan: at our-agr n_at 10 e 0 | val loss 2.3031 val acc 9.8620 best val_acc 9.862013\n",
            "epoch: 1, bulyan: at our-agr n_at 10 e 1 | val loss 2.3027 val acc 9.8620 best val_acc 9.862013\n",
            "epoch: 2, bulyan: at our-agr n_at 10 e 2 | val loss 2.3026 val acc 9.8620 best val_acc 9.862013\n",
            "epoch: 3, bulyan: at our-agr n_at 10 e 3 | val loss 2.3026 val acc 9.8620 best val_acc 9.862013\n",
            "epoch: 4, bulyan: at our-agr n_at 10 e 4 | val loss 2.3026 val acc 9.8620 best val_acc 9.862013\n",
            "epoch: 5, bulyan: at our-agr n_at 10 e 5 | val loss 2.3028 val acc 9.8620 best val_acc 9.862013\n"
          ]
        }
      ],
      "source": [
        "batch_size=250\n",
        "resume=0\n",
        "\n",
        "schedule=[1000]\n",
        "\n",
        "gamma=.5\n",
        "opt = 'sgd'\n",
        "fed_lr=0.5\n",
        "criterion=nn.CrossEntropyLoss()\n",
        "use_cuda = torch.cuda.is_available()\n",
        "\n",
        "aggregation='bulyan'\n",
        "multi_k = False\n",
        "candidates = []\n",
        "\n",
        "at_type='our-agr'\n",
        "dev_type ='std'\n",
        "n_attackers=[10]\n",
        "\n",
        "arch='alexnet'\n",
        "chkpt='./'+aggregation\n",
        "\n",
        "past_mean = []\n",
        "past_abs_sum = []\n",
        "past_median = []\n",
        "past_lower_quartile = []\n",
        "past_upper_quartile = []\n",
        "past_std = []\n",
        "\n",
        "title = \"our attack (10 attacker) + bulyan\"\n",
        "\n",
        "for n_attacker in n_attackers:\n",
        "    epoch_num = 0\n",
        "    best_global_acc = 0\n",
        "    best_global_te_acc = 0\n",
        "\n",
        "    torch.cuda.empty_cache()\n",
        "\n",
        "    fed_model, _ = return_model(arch, 0.1, 0.9, parallel=False)\n",
        "    optimizer_fed = SGD(fed_model.parameters(), lr=fed_lr)\n",
        "\n",
        "    df = pd.DataFrame(columns = ['epoch', 'loss', 'validation accuracy', 'best validation accuracy'])\n",
        "\n",
        "    ####\n",
        "    history = torch.zeros((nusers, nepochs + 1), dtype=torch.float32).cuda()\n",
        "    ####\n",
        "\n",
        "    model_grads = []\n",
        "    while epoch_num <= nepochs:\n",
        "        user_grads=[]\n",
        "\n",
        "        for i in range(nusers): # 50\n",
        "            nbatches = user_tr_len[i]//batch_size\n",
        "\n",
        "            inputs = user_train_data_tensors[i][(epoch_num%nbatches)*batch_size:((epoch_num%nbatches) + 1) * batch_size]\n",
        "            targets = user_train_label_tensors[i][(epoch_num%nbatches)*batch_size:((epoch_num%nbatches) + 1) * batch_size]\n",
        "\n",
        "            targets = targets.type(torch.LongTensor)\n",
        "\n",
        "            inputs, targets = inputs.cuda(), targets.cuda()\n",
        "            inputs, targets = torch.autograd.Variable(inputs), torch.autograd.Variable(targets)\n",
        "\n",
        "            outputs = fed_model(inputs)\n",
        "            loss = criterion(outputs, targets)\n",
        "            fed_model.zero_grad()\n",
        "            loss.backward(retain_graph=True)\n",
        "\n",
        "            param_grad=[]\n",
        "            for param in fed_model.parameters():\n",
        "                param_grad=param.grad.data.view(-1) if not len(param_grad) else torch.cat((param_grad,param.grad.view(-1)))\n",
        "\n",
        "\n",
        "            user_grads=param_grad[None, :] if len(user_grads)==0 else torch.cat((user_grads,param_grad[None,:]), 0)\n",
        "\n",
        "        if epoch_num in schedule:\n",
        "            for param_group in optimizer_fed.param_groups:\n",
        "                param_group['lr'] *= gamma\n",
        "                print('New learnin rate ', param_group['lr'])\n",
        "\n",
        "        updates_abs_mean = user_grads.abs().mean(dim=1, keepdim=True)\n",
        "\n",
        "        if n_attacker > 0:\n",
        "            model_params = torch.cat([p.data.view(-1) for p in fed_model.parameters()])\n",
        "            mal_updates = our_attack_mean(nusers, epoch_num, history, user_grads, model_params, n_attacker, arch, criterion, user_train_data_tensors, user_train_label_tensors)\n",
        "            malicious_grads = torch.cat((mal_updates, user_grads[n_attacker:]), 0) # torch.Size([50, 2472266])\n",
        "        else:   # No attack\n",
        "            malicious_grads = user_grads\n",
        "\n",
        "        if not (malicious_grads.shape[0]==50):\n",
        "            print(malicious_grads.shape)\n",
        "\n",
        "        agg_grads, krum_candidate=bulyan(malicious_grads, 0)\n",
        "\n",
        "        del user_grads\n",
        "\n",
        "        start_idx=0\n",
        "\n",
        "        optimizer_fed.zero_grad()\n",
        "\n",
        "        model_grads=[]\n",
        "\n",
        "        for i, param in enumerate(fed_model.parameters()):\n",
        "            param_=agg_grads[start_idx:start_idx+len(param.data.view(-1))].reshape(param.data.shape)\n",
        "            start_idx=start_idx+len(param.data.view(-1))\n",
        "            param_=param_.cuda()\n",
        "            model_grads.append(param_)\n",
        "\n",
        "        optimizer_fed.step(model_grads)\n",
        "\n",
        "        val_loss, val_acc = test(val_data_tensor,val_label_tensor,fed_model,criterion,use_cuda)\n",
        "        te_loss, te_acc = test(te_data_tensor,te_label_tensor, fed_model, criterion, use_cuda)\n",
        "\n",
        "        is_best = best_global_acc < val_acc\n",
        "\n",
        "        best_global_acc = max(best_global_acc, val_acc)\n",
        "\n",
        "        if is_best:\n",
        "            best_global_te_acc = te_acc\n",
        "\n",
        "\n",
        "        print('epoch: %d, %s: at %s n_at %d e %d | val loss %.4f val acc %.4f best val_acc %f'%(epoch_num, aggregation, at_type, n_attacker, epoch_num, val_loss, val_acc, best_global_acc))\n",
        "        new_row = pd.DataFrame([{\n",
        "            'epoch': epoch_num,\n",
        "            'loss': val_loss,\n",
        "            'validation accuracy': val_acc,\n",
        "            'best validation accuracy': best_global_acc\n",
        "            }])\n",
        "        df = pd.concat([df, new_row], ignore_index=True)\n",
        "        df.to_csv(f'{title}.csv', index=False)\n",
        "\n",
        "        if val_loss > 1000:\n",
        "            print('val loss %f too high'%val_loss)\n",
        "            break\n",
        "\n",
        "        epoch_num+=1"
      ]
    },
    {
      "cell_type": "markdown",
      "metadata": {},
      "source": [
        "## Code for fang attack on Bulyan\n",
        "### Note that Fang attacks on Multi-krum and Bulyan are the same"
      ]
    },
    {
      "cell_type": "code",
      "execution_count": 17,
      "metadata": {},
      "outputs": [],
      "source": [
        "def compute_lambda_fang(all_updates, model_re, n_attackers):\n",
        "\n",
        "    distances = []\n",
        "    n_benign, d = all_updates.shape\n",
        "    for update in all_updates:\n",
        "        distance = torch.norm((all_updates - update), dim=1)\n",
        "        distances = distance[None, :] if not len(distances) else torch.cat((distances, distance[None, :]), 0)\n",
        "\n",
        "    distances[distances == 0] = 10000\n",
        "    distances = torch.sort(distances, dim=1)[0]\n",
        "    scores = torch.sum(distances[:, :n_benign - 2 - n_attackers], dim=1)\n",
        "    min_score = torch.min(scores)\n",
        "    term_1 = min_score / ((n_benign - n_attackers - 1) * torch.sqrt(torch.Tensor([d]))[0])\n",
        "    max_wre_dist = torch.max(torch.norm((all_updates - model_re), dim=1)) / (torch.sqrt(torch.Tensor([d]))[0])\n",
        "    # print(term_1 + max_wre_dist) # tensor(0.0001, device='cuda:0')\n",
        "    return (term_1 + max_wre_dist)\n",
        "\n",
        "\n",
        "def get_malicious_updates_fang(all_updates, model_re, deviation, n_attackers):\n",
        " \n",
        "    lamda = compute_lambda_fang(all_updates, model_re, n_attackers) # tensor(0.0001, device='cuda:0')\n",
        "    \n",
        "    threshold = 1e-5\n",
        "\n",
        "    mal_updates = []\n",
        "    while lamda > threshold:\n",
        "        # print(\"lamda: \", lamda)\n",
        "        mal_update = (- lamda * deviation) # torch.Size([2472266])\n",
        "        mal_updates = torch.stack([mal_update] * n_attackers)   # torch.Size([2, 2472266])\n",
        "        mal_updates = torch.cat((mal_updates, all_updates), 0)  # torch.Size([12, 2472266])\n",
        "\n",
        "        agg_grads, krum_candidate = multi_krum(mal_updates, n_attackers, multi_k=False) # agg_grads.shape torch.Size([2472266]) # krum_candidate.shape torch.Size(1,)\n",
        "        print(\"krum_candidate: \", krum_candidate)\n",
        "        if krum_candidate < n_attackers:\n",
        "            return mal_update\n",
        "        \n",
        "        lamda *= 0.5\n",
        "\n",
        "    if not len(mal_updates):\n",
        "        # print(lamda, threshold)\n",
        "        mal_update = (model_re - lamda * deviation)\n",
        "    return mal_update  # len(mal_update) 2472266"
      ]
    },
    {
      "cell_type": "markdown",
      "metadata": {},
      "source": [
        "## Execute Fang attack on Bulyan"
      ]
    },
    {
      "cell_type": "code",
      "execution_count": 18,
      "metadata": {},
      "outputs": [
        {
          "name": "stdout",
          "output_type": "stream",
          "text": [
            "krum_candidate:  [50]\n",
            "krum_candidate:  [50]\n",
            "krum_candidate:  [50]\n",
            "krum_candidate:  [0]\n",
            "epoch: 0, bulyan: at fang n_at 10 n_mal_sel 10 e 0 | val loss 2.3030 val acc 10.1461 best val_acc 10.146104\n"
          ]
        },
        {
          "name": "stderr",
          "output_type": "stream",
          "text": [
            "C:\\Users\\Hizan\\AppData\\Local\\Temp\\ipykernel_5552\\632363327.py:122: FutureWarning: The behavior of DataFrame concatenation with empty or all-NA entries is deprecated. In a future version, this will no longer exclude empty or all-NA columns when determining the result dtypes. To retain the old behavior, exclude the relevant entries before the concat operation.\n",
            "  df = pd.concat([df, new_row], ignore_index=True)\n"
          ]
        },
        {
          "name": "stdout",
          "output_type": "stream",
          "text": [
            "krum_candidate:  [50]\n",
            "krum_candidate:  [38]\n",
            "krum_candidate:  [38]\n",
            "krum_candidate:  [0]\n",
            "epoch: 1, bulyan: at fang n_at 10 n_mal_sel 10 e 1 | val loss 2.3027 val acc 10.1867 best val_acc 10.186688\n",
            "krum_candidate:  [50]\n",
            "krum_candidate:  [50]\n",
            "krum_candidate:  [24]\n",
            "krum_candidate:  [0]\n",
            "epoch: 2, bulyan: at fang n_at 10 n_mal_sel 10 e 2 | val loss 2.3024 val acc 13.9610 best val_acc 13.961039\n",
            "krum_candidate:  [38]\n",
            "krum_candidate:  [38]\n",
            "krum_candidate:  [38]\n",
            "krum_candidate:  [0]\n",
            "epoch: 3, bulyan: at fang n_at 10 n_mal_sel 10 e 3 | val loss 2.3023 val acc 10.2679 best val_acc 13.961039\n",
            "krum_candidate:  [50]\n",
            "krum_candidate:  [50]\n",
            "krum_candidate:  [24]\n",
            "krum_candidate:  [0]\n",
            "epoch: 4, bulyan: at fang n_at 10 n_mal_sel 10 e 4 | val loss 2.3021 val acc 10.6128 best val_acc 13.961039\n",
            "krum_candidate:  [50]\n",
            "krum_candidate:  [50]\n",
            "krum_candidate:  [50]\n",
            "krum_candidate:  [0]\n",
            "epoch: 5, bulyan: at fang n_at 10 n_mal_sel 10 e 5 | val loss 2.3020 val acc 16.7411 best val_acc 16.741071\n"
          ]
        }
      ],
      "source": [
        "batch_size=250\n",
        "resume=0\n",
        "\n",
        "schedule=[1000]\n",
        "\n",
        "gamma=.5\n",
        "opt = 'sgd'\n",
        "fed_lr=0.5\n",
        "criterion=nn.CrossEntropyLoss()\n",
        "use_cuda = torch.cuda.is_available()\n",
        "\n",
        "aggregation='bulyan'\n",
        "multi_k = False\n",
        "candidates = []\n",
        "\n",
        "at_type='fang'\n",
        "n_attackers=[10]\n",
        "\n",
        "arch='alexnet'\n",
        "chkpt='./'+aggregation\n",
        "\n",
        "title = \"Fang attack on Bulyan\"\n",
        "\n",
        "for n_attacker in n_attackers:\n",
        "    epoch_num = 0\n",
        "    best_global_acc = 0\n",
        "    best_global_te_acc = 0\n",
        "    \n",
        "    torch.cuda.empty_cache()\n",
        "\n",
        "    fed_model, _ = return_model(arch, 0.1, 0.9, parallel=False)\n",
        "    optimizer_fed = SGD(fed_model.parameters(), lr=fed_lr)\n",
        "\n",
        "    df = pd.DataFrame(columns = ['epoch', 'loss', 'validation accuracy', 'best validation accuracy'])\n",
        "    while epoch_num <= nepochs:\n",
        "        user_grads=[]\n",
        "\n",
        "        # for i in range(n_attacker, nusers):\n",
        "        for i in range(nusers):\n",
        "            nbatches = user_tr_len[i]//batch_size\n",
        "\n",
        "            inputs = user_train_data_tensors[i][(epoch_num%nbatches)*batch_size:((epoch_num%nbatches) + 1) * batch_size]\n",
        "            targets = user_train_label_tensors[i][(epoch_num%nbatches)*batch_size:((epoch_num%nbatches) + 1) * batch_size]\n",
        "            targets = targets.type(torch.LongTensor)   \n",
        "            \n",
        "            inputs, targets = inputs.cuda(), targets.cuda()\n",
        "            inputs, targets = torch.autograd.Variable(inputs), torch.autograd.Variable(targets)\n",
        "\n",
        "            outputs = fed_model(inputs)\n",
        "            loss = criterion(outputs, targets)\n",
        "            fed_model.zero_grad()\n",
        "            loss.backward(retain_graph=True)\n",
        "\n",
        "            param_grad=[]\n",
        "            for param in fed_model.parameters():\n",
        "                param_grad=param.grad.data.view(-1) if not len(param_grad) else torch.cat((param_grad,param.grad.view(-1)))\n",
        "\n",
        "            user_grads=param_grad[None, :] if len(user_grads)==0 else torch.cat((user_grads,param_grad[None,:]), 0)\n",
        "\n",
        "        if epoch_num in schedule:\n",
        "            for param_group in optimizer_fed.param_groups:\n",
        "                param_group['lr'] *= gamma\n",
        "                print('New learnin rate ', param_group['lr'])\n",
        "\n",
        "        if n_attacker > 0:\n",
        "            agg_grads = torch.mean(user_grads, 0)\n",
        "            deviation = torch.sign(agg_grads)\n",
        "            mal_update = get_malicious_updates_fang(user_grads, agg_grads, deviation, n_attacker)\n",
        "            malicious_grads = torch.cat((torch.stack([mal_update] * n_attacker), user_grads[n_attacker:]), 0)\n",
        "\n",
        "        \n",
        "        if not (malicious_grads.shape[0]==50):\n",
        "            print(malicious_grads.shape)\n",
        "            sys.exit()\n",
        "            \n",
        "        updates_abs_mean = malicious_grads.abs().mean(dim=1, keepdim=True)\n",
        "\n",
        "        if  torch.isnan(updates_abs_mean).any():\n",
        "            print(\"updates_abs_mean contains a nan value\")\n",
        "            nan_indices = torch.where(torch.isnan(updates_abs_mean))\n",
        "            print(\"updates_abs_mean has nan value at these index: \", nan_indices)\n",
        "            user_grad_nan_index = torch.where(user_grads[nan_indices[0]])\n",
        "            print(\"user_grads has nan value at these index\", user_grad_nan_index)\n",
        "            print(user_grads[nan_indices[0]][user_grad_nan_index])\n",
        "\n",
        "        agg_grads, krum_candidate=bulyan(malicious_grads, 0)\n",
        "\n",
        "        del user_grads\n",
        "\n",
        "        start_idx=0\n",
        "\n",
        "        optimizer_fed.zero_grad()\n",
        "\n",
        "        model_grads=[]\n",
        "\n",
        "        for i, param in enumerate(fed_model.parameters()):\n",
        "            param_=agg_grads[start_idx:start_idx+len(param.data.view(-1))].reshape(param.data.shape)\n",
        "            start_idx=start_idx+len(param.data.view(-1))\n",
        "            param_=param_.cuda()\n",
        "            model_grads.append(param_)\n",
        "\n",
        "        optimizer_fed.step(model_grads)\n",
        "\n",
        "        val_loss, val_acc = test(val_data_tensor,val_label_tensor,fed_model,criterion,use_cuda)\n",
        "        te_loss, te_acc = test(te_data_tensor,te_label_tensor, fed_model, criterion, use_cuda)\n",
        "\n",
        "        is_best = best_global_acc < val_acc\n",
        "\n",
        "        best_global_acc = max(best_global_acc, val_acc)\n",
        "\n",
        "        if is_best:\n",
        "            best_global_te_acc = te_acc\n",
        "\n",
        "        \n",
        "        print('epoch: %d, %s: at %s n_at %d n_mal_sel %d e %d | val loss %.4f val acc %.4f best val_acc %f'%(epoch_num, aggregation, at_type, n_attacker, np.sum(krum_candidate < n_attacker), epoch_num, val_loss, val_acc, best_global_acc))\n",
        "        new_row = pd.DataFrame([{\n",
        "            'epoch': epoch_num, \n",
        "            'loss': val_loss, \n",
        "            'validation accuracy': val_acc, \n",
        "            'best validation accuracy': best_global_acc\n",
        "            }])\n",
        "        df = pd.concat([df, new_row], ignore_index=True)\n",
        "        df.to_csv(f'{title}.csv', index=False)\n",
        "        epoch_num+=1"
      ]
    },
    {
      "cell_type": "code",
      "execution_count": 19,
      "metadata": {},
      "outputs": [
        {
          "data": {
            "image/png": "[encoded data removed]",
            "text/plain": [
              "<Figure size 640x480 with 1 Axes>"
            ]
          },
          "metadata": {},
          "output_type": "display_data"
        },
        {
          "data": {
            "image/png": "[encoded data removed]",
            "text/plain": [
              "<Figure size 640x480 with 1 Axes>"
            ]
          },
          "metadata": {},
          "output_type": "display_data"
        },
        {
          "data": {
            "image/png": "[encoded data removed]",
            "text/plain": [
              "<Figure size 640x480 with 1 Axes>"
            ]
          },
          "metadata": {},
          "output_type": "display_data"
        }
      ],
      "source": [
        "import matplotlib.pyplot as plt\n",
        "\n",
        "# Plotting the data\n",
        "for col in ['loss', 'validation accuracy', 'best validation accuracy']:\n",
        "    plt.plot(df['epoch'].tolist(), df[col].tolist())\n",
        "    plt.title(f\"{title} {col}\")\n",
        "    plt.show()"
      ]
    },
    {
      "cell_type": "markdown",
      "metadata": {},
      "source": [
        "## Code for LIE attack + bulyan"
      ]
    },
    {
      "cell_type": "code",
      "execution_count": 20,
      "metadata": {},
      "outputs": [],
      "source": [
        "def lie_attack(all_updates, z):\n",
        "    avg = torch.mean(all_updates, dim=0)\n",
        "    std = torch.std(all_updates, dim=0)\n",
        "    return avg + z * std"
      ]
    },
    {
      "cell_type": "code",
      "execution_count": 21,
      "metadata": {},
      "outputs": [
        {
          "name": "stdout",
          "output_type": "stream",
          "text": [
            "epoch: 0, bulyan: at lie n_at 10 e 0 | val loss 2.3028 val acc 10.2273 best val_acc 10.227273\n"
          ]
        },
        {
          "name": "stderr",
          "output_type": "stream",
          "text": [
            "C:\\Users\\Hizan\\AppData\\Local\\Temp\\ipykernel_5552\\2743550631.py:110: FutureWarning: The behavior of DataFrame concatenation with empty or all-NA entries is deprecated. In a future version, this will no longer exclude empty or all-NA columns when determining the result dtypes. To retain the old behavior, exclude the relevant entries before the concat operation.\n",
            "  df = pd.concat([df, new_row], ignore_index=True)\n"
          ]
        },
        {
          "name": "stdout",
          "output_type": "stream",
          "text": [
            "epoch: 1, bulyan: at lie n_at 10 e 1 | val loss 2.3026 val acc 10.2273 best val_acc 10.227273\n",
            "epoch: 2, bulyan: at lie n_at 10 e 2 | val loss 2.3026 val acc 10.2273 best val_acc 10.227273\n",
            "epoch: 3, bulyan: at lie n_at 10 e 3 | val loss 2.3027 val acc 10.2273 best val_acc 10.227273\n",
            "epoch: 4, bulyan: at lie n_at 10 e 4 | val loss 2.3027 val acc 10.2273 best val_acc 10.227273\n",
            "epoch: 5, bulyan: at lie n_at 10 e 5 | val loss 2.3027 val acc 10.2273 best val_acc 10.227273\n"
          ]
        }
      ],
      "source": [
        "batch_size=250\n",
        "resume=0\n",
        "schedule=[1000]\n",
        "\n",
        "gamma=.5\n",
        "opt = 'sgd'\n",
        "fed_lr=0.5\n",
        "criterion=nn.CrossEntropyLoss()\n",
        "use_cuda = torch.cuda.is_available()\n",
        "\n",
        "aggregation='bulyan'\n",
        "multi_k = False\n",
        "candidates = []\n",
        "\n",
        "at_type='lie'\n",
        "z_values={3:0.69847, 5:0.7054, 8:0.71904, 10:0.72575, 12:0.73891}\n",
        "n_attackers=[10]\n",
        "\n",
        "arch='alexnet'\n",
        "chkpt='./'+aggregation\n",
        "\n",
        "title = \"LIE attack + bulyan\"\n",
        "\n",
        "for n_attacker in n_attackers:\n",
        "    epoch_num = 0\n",
        "    best_global_acc = 0\n",
        "    best_global_te_acc = 0\n",
        "\n",
        "    torch.cuda.empty_cache()\n",
        "\n",
        "    fed_model, _ = return_model(arch, 0.1, 0.9, parallel=False)\n",
        "    optimizer_fed = SGD(fed_model.parameters(), lr=fed_lr)\n",
        "\n",
        "    df = pd.DataFrame(columns = ['epoch', 'loss', 'validation accuracy', 'best validation accuracy'])\n",
        "\n",
        "    while epoch_num <= nepochs:\n",
        "        user_grads=[]\n",
        "\n",
        "        for i in range(n_attacker, nusers):\n",
        "            nbatches = user_tr_len[i]//batch_size\n",
        "\n",
        "            inputs = user_train_data_tensors[i][(epoch_num%nbatches)*batch_size:((epoch_num%nbatches) + 1) * batch_size]\n",
        "            targets = user_train_label_tensors[i][(epoch_num%nbatches)*batch_size:((epoch_num%nbatches) + 1) * batch_size]\n",
        "\n",
        "            inputs, targets = inputs.cuda(), targets.cuda()\n",
        "            inputs, targets = torch.autograd.Variable(inputs), torch.autograd.Variable(targets)\n",
        "\n",
        "            outputs = fed_model(inputs)\n",
        "            loss = criterion(outputs, targets)\n",
        "            fed_model.zero_grad()\n",
        "            loss.backward(retain_graph=True)\n",
        "\n",
        "            param_grad=[]\n",
        "            for param in fed_model.parameters():\n",
        "                param_grad=param.grad.data.view(-1) if not len(param_grad) else torch.cat((param_grad,param.grad.view(-1)))\n",
        "\n",
        "            user_grads=param_grad[None, :] if len(user_grads)==0 else torch.cat((user_grads,param_grad[None,:]), 0)\n",
        "\n",
        "        if epoch_num in schedule:\n",
        "            for param_group in optimizer_fed.param_groups:\n",
        "                param_group['lr'] *= gamma\n",
        "                print('New learnin rate ', param_group['lr'])\n",
        "\n",
        "        if n_attacker > 0:\n",
        "            mal_update = lie_attack(user_grads, z_values[n_attacker])\n",
        "            malicious_grads = torch.cat((torch.stack([mal_update]*n_attacker), malicious_grads))\n",
        "                        \n",
        "        mal_updates = torch.stack([mal_update] * n_attacker)\n",
        "        malicious_grads = torch.cat((mal_updates, user_grads), 0)\n",
        "\n",
        "        if not (malicious_grads.shape[0]==50):\n",
        "            print(malicious_grads.shape)\n",
        "            sys.exit()\n",
        "            \n",
        "        agg_grads, krum_candidate=bulyan(malicious_grads, n_attacker)\n",
        "\n",
        "        del user_grads\n",
        "\n",
        "        start_idx=0\n",
        "\n",
        "        optimizer_fed.zero_grad()\n",
        "\n",
        "        model_grads=[]\n",
        "\n",
        "        for i, param in enumerate(fed_model.parameters()):\n",
        "            param_=agg_grads[start_idx:start_idx+len(param.data.view(-1))].reshape(param.data.shape)\n",
        "            start_idx=start_idx+len(param.data.view(-1))\n",
        "            param_=param_.cuda()\n",
        "            model_grads.append(param_)\n",
        "\n",
        "        optimizer_fed.step(model_grads)\n",
        "\n",
        "        val_loss, val_acc = test(val_data_tensor,val_label_tensor,fed_model,criterion,use_cuda)\n",
        "        te_loss, te_acc = test(te_data_tensor,te_label_tensor, fed_model, criterion, use_cuda)\n",
        "\n",
        "        is_best = best_global_acc < val_acc\n",
        "\n",
        "        best_global_acc = max(best_global_acc, val_acc)\n",
        "\n",
        "        if is_best:\n",
        "            best_global_te_acc = te_acc\n",
        "\n",
        "        print('epoch: %d, %s: at %s n_at %d e %d | val loss %.4f val acc %.4f best val_acc %f'%(epoch_num, aggregation, at_type, n_attacker, epoch_num, val_loss, val_acc, best_global_acc))\n",
        "        new_row = pd.DataFrame([{\n",
        "            'epoch': epoch_num,\n",
        "            'loss': val_loss,\n",
        "            'validation accuracy': val_acc,\n",
        "            'best validation accuracy': best_global_acc\n",
        "            }])\n",
        "        df = pd.concat([df, new_row], ignore_index=True)\n",
        "        df.to_csv(f'{title}.csv', index=False)\n",
        "\n",
        "        if val_loss > 10:\n",
        "            print('val loss %f too high'%val_loss)\n",
        "            break\n",
        "\n",
        "        epoch_num+=1"
      ]
    },
    {
      "cell_type": "code",
      "execution_count": 22,
      "metadata": {},
      "outputs": [
        {
          "data": {
            "image/png": "[encoded data removed]",
            "text/plain": [
              "<Figure size 640x480 with 1 Axes>"
            ]
          },
          "metadata": {},
          "output_type": "display_data"
        },
        {
          "data": {
            "image/png": "[encoded data removed]",
            "text/plain": [
              "<Figure size 640x480 with 1 Axes>"
            ]
          },
          "metadata": {},
          "output_type": "display_data"
        },
        {
          "data": {
            "image/png": "[encoded data removed]",
            "text/plain": [
              "<Figure size 640x480 with 1 Axes>"
            ]
          },
          "metadata": {},
          "output_type": "display_data"
        }
      ],
      "source": [
        "import matplotlib.pyplot as plt\n",
        "\n",
        "# Plotting the data\n",
        "for col in ['loss', 'validation accuracy', 'best validation accuracy']:\n",
        "    plt.plot(df['epoch'].tolist(), df[col].tolist())\n",
        "    plt.title(f\"{title} {col}\")\n",
        "    plt.show()"
      ]
    }
  ],
  "metadata": {
    "accelerator": "GPU",
    "colab": {
      "collapsed_sections": [
        "ilTYNiZMlvp4",
        "8mZBn-_AaaTL"
      ],
      "gpuType": "T4",
      "provenance": []
    },
    "kernelspec": {
      "display_name": "Python 3",
      "name": "python3"
    },
    "language_info": {
      "codemirror_mode": {
        "name": "ipython",
        "version": 3
      },
      "file_extension": ".py",
      "mimetype": "text/x-python",
      "name": "python",
      "nbconvert_exporter": "python",
      "pygments_lexer": "ipython3",
      "version": "3.9.18"
    }
  },
  "nbformat": 4,
  "nbformat_minor": 0
}
