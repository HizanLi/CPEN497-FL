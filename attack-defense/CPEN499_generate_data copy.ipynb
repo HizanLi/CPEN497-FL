{
  "cells": [
    {
      "cell_type": "markdown",
      "metadata": {
        "id": "iMUR8ODgnrc3"
      },
      "source": [
        "# The notebook contains\n",
        "### Code for _Bulyan_ aggregation algorithm, *when gradient updates of benign clients are unknown to adversary*\n",
        "### Evaluation of all of the attacks (Fang, LIE, and our SOTA AGR-tailored and AGR-agnstic) on Bulyan"
      ]
    },
    {
      "cell_type": "markdown",
      "metadata": {
        "id": "pJu2Edmbnrc5"
      },
      "source": [
        "## Import packages"
      ]
    },
    {
      "cell_type": "code",
      "execution_count": null,
      "metadata": {
        "colab": {
          "base_uri": "https://localhost:8080/",
          "height": 17
        },
        "id": "wGSIzpf_nrc5",
        "outputId": "5563fc08-740b-4522-8ba9-41e940ec060e"
      },
      "outputs": [
        {
          "data": {
            "text/html": [
              "<style>.container { width:90% !important; }</style>"
            ],
            "text/plain": [
              "<IPython.core.display.HTML object>"
            ]
          },
          "metadata": {},
          "output_type": "display_data"
        }
      ],
      "source": [
        "from IPython.display import display, HTML\n",
        "display(HTML(\"<style>.container { width:90% !important; }</style>\"))"
      ]
    },
    {
      "cell_type": "code",
      "execution_count": null,
      "metadata": {
        "id": "AAU3fosynrc6"
      },
      "outputs": [],
      "source": [
        "from __future__ import print_function\n",
        "import argparse, os, sys, csv, shutil, time, random, operator, pickle, ast, math\n",
        "import numpy as np\n",
        "import pandas as pd\n",
        "from torch.optim import Optimizer\n",
        "import torch.nn.functional as F\n",
        "import torch\n",
        "import pickle\n",
        "import torch.nn as nn\n",
        "import torch.nn.parallel\n",
        "import torch.backends.cudnn as cudnn\n",
        "import torch.optim as optim\n",
        "import torch.utils.data as data\n",
        "import torch.multiprocessing as mp\n",
        "import math\n",
        "sys.path.insert(0,'./../utils/')\n",
        "from logger import *\n",
        "from eval import *\n",
        "from misc import *\n",
        "\n",
        "from cifar10_normal_train import *\n",
        "from cifar10_util import *\n",
        "from adam import Adam\n",
        "from sgd import SGD\n"
      ]
    },
    {
      "cell_type": "markdown",
      "metadata": {},
      "source": [
        "## Data split\n",
        "Divide cifar10 data among 50 clients in Non-IID fashion using Dirichlet distribution\n",
        "\n",
        "Graph the distribution of classes for each user"
      ]
    },
    {
      "cell_type": "code",
      "execution_count": null,
      "metadata": {},
      "outputs": [
        {
          "name": "stdout",
          "output_type": "stream",
          "text": [
            "Files already downloaded and verified\n",
            "Files already downloaded and verified\n"
          ]
        }
      ],
      "source": [
        "import torchvision.transforms as transforms\n",
        "import torchvision.datasets as datasets\n",
        "data_loc='/mnt/nfs/work1/amir/vshejwalkar/cifar10_data/'\n",
        "# load the train dataset\n",
        "\n",
        "train_transform = transforms.Compose([\n",
        "        transforms.ToTensor(),\n",
        "        transforms.Normalize((0.4914, 0.4822, 0.4465), (0.2023, 0.1994, 0.2010)),\n",
        "    ])\n",
        "\n",
        "cifar10_train = datasets.CIFAR10(root=data_loc, train=True, download=True, transform=train_transform)\n",
        "\n",
        "cifar10_test = datasets.CIFAR10(root=data_loc, train=False, download=True, transform=train_transform)\n"
      ]
    },
    {
      "cell_type": "code",
      "execution_count": null,
      "metadata": {},
      "outputs": [],
      "source": [
        "total_tr_len = len(cifar10_train)\n",
        "\n",
        "X={}\n",
        "Y=[]\n",
        "for i in range(len(cifar10_train)):\n",
        "    data = cifar10_train[i][0].numpy()\n",
        "    label = cifar10_train[i][1]\n",
        "\n",
        "    if label in X:\n",
        "        X[label].append(data)\n",
        "    else:\n",
        "        X[label] = []\n",
        "        X[label].append(data)\n",
        "        Y.append(label)\n",
        "\n",
        "for label in X:\n",
        "    X[label] = np.array(X[label])\n",
        "Y=np.array(Y)\n",
        "\n",
        "alpha = 1\n",
        "n_users = 50"
      ]
    },
    {
      "cell_type": "code",
      "execution_count": null,
      "metadata": {},
      "outputs": [
        {
          "name": "stdout",
          "output_type": "stream",
          "text": [
            "user 0 has 1134 train data, and 1134 train labels\n",
            "user 1 has 1249 train data, and 1249 train labels\n",
            "user 2 has 1330 train data, and 1330 train labels\n",
            "user 3 has 955 train data, and 955 train labels\n",
            "user 4 has 1002 train data, and 1002 train labels\n",
            "user 5 has 968 train data, and 968 train labels\n",
            "user 6 has 1726 train data, and 1726 train labels\n",
            "user 7 has 909 train data, and 909 train labels\n",
            "user 8 has 983 train data, and 983 train labels\n",
            "user 9 has 989 train data, and 989 train labels\n",
            "user 10 has 807 train data, and 807 train labels\n",
            "user 11 has 555 train data, and 555 train labels\n",
            "user 12 has 1069 train data, and 1069 train labels\n",
            "user 13 has 917 train data, and 917 train labels\n",
            "user 14 has 1237 train data, and 1237 train labels\n",
            "user 15 has 1166 train data, and 1166 train labels\n",
            "user 16 has 871 train data, and 871 train labels\n",
            "user 17 has 1059 train data, and 1059 train labels\n",
            "user 18 has 688 train data, and 688 train labels\n",
            "user 19 has 565 train data, and 565 train labels\n",
            "user 20 has 867 train data, and 867 train labels\n",
            "user 21 has 941 train data, and 941 train labels\n",
            "user 22 has 705 train data, and 705 train labels\n",
            "user 23 has 872 train data, and 872 train labels\n",
            "user 24 has 698 train data, and 698 train labels\n",
            "user 25 has 554 train data, and 554 train labels\n",
            "user 26 has 765 train data, and 765 train labels\n",
            "user 27 has 942 train data, and 942 train labels\n",
            "user 28 has 1027 train data, and 1027 train labels\n",
            "user 29 has 842 train data, and 842 train labels\n",
            "user 30 has 1033 train data, and 1033 train labels\n",
            "user 31 has 1247 train data, and 1247 train labels\n",
            "user 32 has 1875 train data, and 1875 train labels\n",
            "user 33 has 914 train data, and 914 train labels\n",
            "user 34 has 775 train data, and 775 train labels\n",
            "user 35 has 1974 train data, and 1974 train labels\n",
            "user 36 has 1247 train data, and 1247 train labels\n",
            "user 37 has 998 train data, and 998 train labels\n",
            "user 38 has 957 train data, and 957 train labels\n",
            "user 39 has 751 train data, and 751 train labels\n",
            "user 40 has 1147 train data, and 1147 train labels\n",
            "user 41 has 487 train data, and 487 train labels\n",
            "user 42 has 1269 train data, and 1269 train labels\n",
            "user 43 has 994 train data, and 994 train labels\n",
            "user 44 has 1061 train data, and 1061 train labels\n",
            "user 45 has 742 train data, and 742 train labels\n",
            "user 46 has 1094 train data, and 1094 train labels\n",
            "user 47 has 1056 train data, and 1056 train labels\n",
            "user 48 has 1012 train data, and 1012 train labels\n",
            "user 49 has 975 train data, and 975 train labels\n"
          ]
        }
      ],
      "source": [
        "user_train_data_non_tensors = [[] for _ in range(n_users)]\n",
        "user_train_label_non_tensors = [[] for _ in range(n_users)]\n",
        "\n",
        "for label in Y:\n",
        "    alpha_list = [alpha for _ in range(n_users)]\n",
        "    probs = np.random.dirichlet(alpha_list)\n",
        "\n",
        "    taken_index = 0\n",
        "\n",
        "    for i, prob in enumerate(probs):\n",
        "        if i == n_users - 1:\n",
        "            user_train_data_non_tensors[i].extend(X[label][taken_index:])\n",
        "            user_train_label_non_tensors[i].extend([label for _ in range(len(X[label]) - taken_index)])\n",
        "        else:\n",
        "            n_sample = math.floor(prob * len(X[label]))\n",
        "\n",
        "            user_train_data_non_tensors[i].extend(X[label][taken_index : taken_index + n_sample])\n",
        "            user_train_label_non_tensors[i].extend([label for _ in range(n_sample)])\n",
        "            taken_index += n_sample\n",
        "\n",
        "user_train_data_tensors = []\n",
        "user_train_label_tensors = []\n",
        "\n",
        "user_tr_len = []\n",
        "\n",
        "for i in range(n_users):\n",
        "\n",
        "    if len(user_train_data_non_tensors[i]) != len(user_train_label_non_tensors[i]):\n",
        "        sys.exit(f\"Shape does not match user_train_data_non_tensors[i] hsa {len(user_train_data_non_tensors[i])}, while user_train_label_non_tensors[i] has {len(user_train_label_non_tensors[i])}\")\n",
        "\n",
        "\n",
        "    num_data = len(user_train_data_non_tensors[i])\n",
        "    user_tr_len.append(num_data)\n",
        "\n",
        "    user_train_data_tensors.append(torch.from_numpy(np.array(user_train_data_non_tensors[i])).type(torch.FloatTensor))\n",
        "    user_train_label_tensors.append(torch.from_numpy(np.array(user_train_label_non_tensors[i])).type(torch.LongTensor))\n",
        "\n",
        "    r=np.arange(num_data)\n",
        "\n",
        "    np.random.shuffle(r)\n",
        "\n",
        "    user_train_data_tensors[i] = user_train_data_tensors[i][r]\n",
        "    user_train_label_tensors[i] = user_train_label_tensors[i][r]\n",
        "\n",
        "    print(f'user {i} has {user_train_data_tensors[i].shape[0]} train data, and {user_train_label_tensors[i].shape[0]} train labels')\n",
        "\n"
      ]
    },
    {
      "cell_type": "code",
      "execution_count": null,
      "metadata": {},
      "outputs": [],
      "source": [
        "X2 = []\n",
        "Y2 = []\n",
        "\n",
        "for i in range(len(cifar10_test)):\n",
        "    X2.append(cifar10_test[i][0].numpy())\n",
        "    Y2.append(cifar10_test[i][1])\n",
        "\n",
        "X2=np.array(X2)\n",
        "Y2=np.array(Y2)\n",
        "\n",
        "half_index = len(X2) // 2\n",
        "\n",
        "val_data= X2[:half_index]\n",
        "val_label= Y2[:half_index]\n",
        "\n",
        "te_data=X2[half_index:]\n",
        "te_label=Y2[half_index:]\n",
        "\n",
        "val_data_tensor=torch.from_numpy(val_data).type(torch.FloatTensor)\n",
        "val_label_tensor=torch.from_numpy(val_label).type(torch.LongTensor)\n",
        "\n",
        "te_data_tensor=torch.from_numpy(te_data).type(torch.FloatTensor)\n",
        "te_label_tensor=torch.from_numpy(te_label).type(torch.LongTensor)"
      ]
    },
    {
      "cell_type": "code",
      "execution_count": null,
      "metadata": {},
      "outputs": [],
      "source": [
        "pickle.dump(user_tr_len, open('/user_tr_len.pkl', 'wb'))\n",
        "\n",
        "pickle.dump(user_train_data_tensors,open('./user_train_data_tensors.pkl','wb'))\n",
        "pickle.dump(user_train_label_tensors,open('./user_train_label_tensors.pkl','wb'))\n",
        "\n",
        "pickle.dump(val_data_tensor,open('./val_data_tensor.pkl','wb'))\n",
        "pickle.dump(val_label_tensor,open('./val_label_tensor.pkl','wb'))\n",
        "pickle.dump(te_data_tensor,open('./te_data_tensor.pkl','wb'))\n",
        "pickle.dump(te_label_tensor,open('./te_label_tensor.pkl','wb'))"
      ]
    },
    {
      "cell_type": "code",
      "execution_count": null,
      "metadata": {},
      "outputs": [
        {
          "data": {
            "image/png": "[encoded data removed]",
            "text/plain": [
              "<Figure size 1000x600 with 1 Axes>"
            ]
          },
          "metadata": {},
          "output_type": "display_data"
        }
      ],
      "source": [
        "import matplotlib.pyplot as plt\n",
        "import numpy as np\n",
        "from PIL import Image\n",
        "\n",
        "# Example data\n",
        "users = [f\"user {i}\" for i in range(50)]\n",
        "labels = [f\"label {i}\" for i in range(10)]\n",
        "\n",
        "\n",
        "percentages = []\n",
        "for user_data in user_train_label_non_tensors:\n",
        "    temp_holder = []\n",
        "    for label in range(10):\n",
        "        temp_holder.append(user_data.count(label))\n",
        "    percentages.append(temp_holder)\n",
        "\n",
        "percentages = np.array(percentages)\n",
        "\n",
        "# Assuming 'percentages' is populated correctly as shown previously\n",
        "# Convert percentages to cumulative sum for stacking\n",
        "cumulative = np.cumsum(percentages, axis=1)\n",
        "\n",
        "# Plot\n",
        "fig, ax = plt.subplots(figsize=(10, 6))\n",
        "\n",
        "# Colors for each ethnicity, ensuring there are enough colors for all labels\n",
        "colors = plt.cm.Paired(range(len(labels))) # Repeating colors to match the number of labels\n",
        "\n",
        "# Create stacked bars\n",
        "for i in range(len(labels)):  # Iterate over the number of labels\n",
        "    if i == 0:\n",
        "        ax.bar(users, percentages[:, i], color=colors[i], label=labels[i])\n",
        "    else:\n",
        "        ax.bar(users, percentages[:, i], bottom=cumulative[:, i-1], color=colors[i], label=labels[i])\n",
        "\n",
        "# Add some text for labels, title, and custom x-axis tick labels, etc.\n",
        "ax.set_ylabel('Percentage')\n",
        "ax.set_title('Stacked Percentage Bar Chart by User and Label')\n",
        "ax.set_xticks(np.arange(len(users)))\n",
        "ax.set_xticklabels(users, rotation=90)  # Rotate labels if needed\n",
        "ax.legend()\n",
        "\n",
        "\n",
        "plt.savefig('./data/non_iid_user_label_distribution.png', bbox_inches='tight')\n",
        "plt.show()\n"
      ]
    }
  ],
  "metadata": {
    "accelerator": "GPU",
    "colab": {
      "collapsed_sections": [
        "ilTYNiZMlvp4",
        "8mZBn-_AaaTL"
      ],
      "gpuType": "T4",
      "provenance": []
    },
    "kernelspec": {
      "display_name": "Python 3",
      "name": "python3"
    },
    "language_info": {
      "codemirror_mode": {
        "name": "ipython",
        "version": 3
      },
      "file_extension": ".py",
      "mimetype": "text/x-python",
      "name": "python",
      "nbconvert_exporter": "python",
      "pygments_lexer": "ipython3",
      "version": "3.9.18"
    }
  },
  "nbformat": 4,
  "nbformat_minor": 0
}
