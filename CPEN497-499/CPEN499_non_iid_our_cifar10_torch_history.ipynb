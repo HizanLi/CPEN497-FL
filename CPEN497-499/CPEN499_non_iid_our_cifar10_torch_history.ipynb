{
  "cells": [
    {
      "cell_type": "markdown",
      "metadata": {
        "id": "iMUR8ODgnrc3"
      },
      "source": [
        "# The notebook contains\n",
        "### Code for _Bulyan_ aggregation algorithm, *when gradient updates of benign clients are unknown to adversary*\n",
        "### Evaluation of all of the attacks (Fang, LIE, and our SOTA AGR-tailored and AGR-agnstic) on Bulyan"
      ]
    },
    {
      "cell_type": "markdown",
      "metadata": {
        "id": "pJu2Edmbnrc5"
      },
      "source": [
        "## Import packages"
      ]
    },
    {
      "cell_type": "code",
      "execution_count": 1,
      "metadata": {
        "colab": {
          "base_uri": "https://localhost:8080/",
          "height": 17
        },
        "id": "wGSIzpf_nrc5",
        "outputId": "91acd2fa-cf3c-453e-f4bf-778ca8a93526"
      },
      "outputs": [
        {
          "data": {
            "text/html": [
              "<style>.container { width:90% !important; }</style>"
            ],
            "text/plain": [
              "<IPython.core.display.HTML object>"
            ]
          },
          "metadata": {},
          "output_type": "display_data"
        }
      ],
      "source": [
        "from IPython.display import display, HTML\n",
        "display(HTML(\"<style>.container { width:90% !important; }</style>\"))"
      ]
    },
    {
      "cell_type": "code",
      "execution_count": 2,
      "metadata": {
        "id": "AAU3fosynrc6"
      },
      "outputs": [],
      "source": [
        "from __future__ import print_function\n",
        "import argparse, os, sys, csv, shutil, time, random, operator, pickle, ast, math\n",
        "import numpy as np\n",
        "import pandas as pd\n",
        "from torch.optim import Optimizer\n",
        "import torch.nn.functional as F\n",
        "import torch\n",
        "import pickle\n",
        "import torch.nn as nn\n",
        "import torch.nn.parallel\n",
        "import torch.backends.cudnn as cudnn\n",
        "import torch.optim as optim\n",
        "import torch.utils.data as data\n",
        "import torch.multiprocessing as mp\n",
        "import math\n",
        "sys.path.insert(0,'./../utils/')\n",
        "from logger import *\n",
        "from eval import *\n",
        "from misc import *\n",
        "\n",
        "from cifar10_normal_train import *\n",
        "from cifar10_util import *\n",
        "from adam import Adam\n",
        "from sgd import SGD\n"
      ]
    },
    {
      "cell_type": "markdown",
      "metadata": {
        "id": "rGABIvW6nrc6"
      },
      "source": [
        "## Data split\n",
        "Divide cifar10 data among 50 clients in Non-IID fashion using Dirichlet distribution\n",
        "\n",
        "Graph the distribution of classes for each user"
      ]
    },
    {
      "cell_type": "code",
      "execution_count": 3,
      "metadata": {
        "colab": {
          "base_uri": "https://localhost:8080/"
        },
        "id": "n1Nyn5Xlnrc6",
        "outputId": "fbb63fbb-eeb2-4e4b-83b0-f9f09775ebbf"
      },
      "outputs": [
        {
          "name": "stdout",
          "output_type": "stream",
          "text": [
            "Files already downloaded and verified\n",
            "Files already downloaded and verified\n"
          ]
        }
      ],
      "source": [
        "import torchvision.transforms as transforms\n",
        "import torchvision.datasets as datasets\n",
        "data_loc='/mnt/nfs/work1/amir/vshejwalkar/cifar10_data/'\n",
        "# load the train dataset\n",
        "\n",
        "train_transform = transforms.Compose([\n",
        "        transforms.ToTensor(),\n",
        "        transforms.Normalize((0.4914, 0.4822, 0.4465), (0.2023, 0.1994, 0.2010)),\n",
        "    ])\n",
        "\n",
        "cifar10_train = datasets.CIFAR10(root=data_loc, train=True, download=True, transform=train_transform)\n",
        "\n",
        "cifar10_test = datasets.CIFAR10(root=data_loc, train=False, download=True, transform=train_transform)\n"
      ]
    },
    {
      "cell_type": "code",
      "execution_count": 4,
      "metadata": {
        "id": "RrUvgYfNnrc7"
      },
      "outputs": [],
      "source": [
        "total_tr_len = len(cifar10_train)\n",
        "\n",
        "X={}\n",
        "Y=[]\n",
        "for i in range(len(cifar10_train)):\n",
        "    data = cifar10_train[i][0].numpy()\n",
        "    label = cifar10_train[i][1]\n",
        "\n",
        "    if label in X:\n",
        "        X[label].append(data)\n",
        "    else:\n",
        "        X[label] = []\n",
        "        X[label].append(data)\n",
        "        Y.append(label)\n",
        "\n",
        "for label in X:\n",
        "    X[label] = np.array(X[label])\n",
        "Y=np.array(Y)\n",
        "\n",
        "alpha = 1\n",
        "n_users = 50"
      ]
    },
    {
      "cell_type": "code",
      "execution_count": 5,
      "metadata": {
        "colab": {
          "base_uri": "https://localhost:8080/"
        },
        "id": "6osiZzKOnrc7",
        "outputId": "4b8e690d-e397-40c0-865e-d65b164b115d"
      },
      "outputs": [
        {
          "name": "stdout",
          "output_type": "stream",
          "text": [
            "user 0 has 951 train data, and 951 train labels\n",
            "user 1 has 1268 train data, and 1268 train labels\n",
            "user 2 has 799 train data, and 799 train labels\n",
            "user 3 has 709 train data, and 709 train labels\n",
            "user 4 has 463 train data, and 463 train labels\n",
            "user 5 has 1218 train data, and 1218 train labels\n",
            "user 6 has 1574 train data, and 1574 train labels\n",
            "user 7 has 1279 train data, and 1279 train labels\n",
            "user 8 has 1423 train data, and 1423 train labels\n",
            "user 9 has 1281 train data, and 1281 train labels\n",
            "user 10 has 1216 train data, and 1216 train labels\n",
            "user 11 has 1062 train data, and 1062 train labels\n",
            "user 12 has 1261 train data, and 1261 train labels\n",
            "user 13 has 1147 train data, and 1147 train labels\n",
            "user 14 has 902 train data, and 902 train labels\n",
            "user 15 has 1011 train data, and 1011 train labels\n",
            "user 16 has 620 train data, and 620 train labels\n",
            "user 17 has 662 train data, and 662 train labels\n",
            "user 18 has 629 train data, and 629 train labels\n",
            "user 19 has 1101 train data, and 1101 train labels\n",
            "user 20 has 689 train data, and 689 train labels\n",
            "user 21 has 760 train data, and 760 train labels\n",
            "user 22 has 1064 train data, and 1064 train labels\n",
            "user 23 has 755 train data, and 755 train labels\n",
            "user 24 has 833 train data, and 833 train labels\n",
            "user 25 has 585 train data, and 585 train labels\n",
            "user 26 has 1353 train data, and 1353 train labels\n",
            "user 27 has 1066 train data, and 1066 train labels\n",
            "user 28 has 1020 train data, and 1020 train labels\n",
            "user 29 has 908 train data, and 908 train labels\n",
            "user 30 has 677 train data, and 677 train labels\n",
            "user 31 has 769 train data, and 769 train labels\n",
            "user 32 has 1181 train data, and 1181 train labels\n",
            "user 33 has 415 train data, and 415 train labels\n",
            "user 34 has 1265 train data, and 1265 train labels\n",
            "user 35 has 1794 train data, and 1794 train labels\n",
            "user 36 has 777 train data, and 777 train labels\n",
            "user 37 has 803 train data, and 803 train labels\n",
            "user 38 has 947 train data, and 947 train labels\n",
            "user 39 has 1264 train data, and 1264 train labels\n",
            "user 40 has 688 train data, and 688 train labels\n",
            "user 41 has 1628 train data, and 1628 train labels\n",
            "user 42 has 579 train data, and 579 train labels\n",
            "user 43 has 732 train data, and 732 train labels\n",
            "user 44 has 1239 train data, and 1239 train labels\n",
            "user 45 has 1117 train data, and 1117 train labels\n",
            "user 46 has 1194 train data, and 1194 train labels\n",
            "user 47 has 695 train data, and 695 train labels\n",
            "user 48 has 1502 train data, and 1502 train labels\n",
            "user 49 has 1125 train data, and 1125 train labels\n"
          ]
        }
      ],
      "source": [
        "user_train_data_non_tensors = [[] for _ in range(n_users)]\n",
        "user_train_label_non_tensors = [[] for _ in range(n_users)]\n",
        "\n",
        "for label in Y:\n",
        "    alpha_list = [alpha for _ in range(n_users)]\n",
        "    probs = np.random.dirichlet(alpha_list)\n",
        "\n",
        "    taken_index = 0\n",
        "\n",
        "    for i, prob in enumerate(probs):\n",
        "        if i == n_users - 1:\n",
        "            user_train_data_non_tensors[i].extend(X[label][taken_index:])\n",
        "            user_train_label_non_tensors[i].extend([label for _ in range(len(X[label]) - taken_index)])\n",
        "        else:\n",
        "            n_sample = math.floor(prob * len(X[label]))\n",
        "\n",
        "            user_train_data_non_tensors[i].extend(X[label][taken_index : taken_index + n_sample])\n",
        "            user_train_label_non_tensors[i].extend([label for _ in range(n_sample)])\n",
        "            taken_index += n_sample\n",
        "\n",
        "user_train_data_tensors = []\n",
        "user_train_label_tensors = []\n",
        "\n",
        "user_tr_len = []\n",
        "\n",
        "for i in range(n_users):\n",
        "\n",
        "    if len(user_train_data_non_tensors[i]) != len(user_train_label_non_tensors[i]):\n",
        "        sys.exit(f\"Shape does not match user_train_data_non_tensors[i] hsa {len(user_train_data_non_tensors[i])}, while user_train_label_non_tensors[i] has {len(user_train_label_non_tensors[i])}\")\n",
        "\n",
        "\n",
        "    num_data = len(user_train_data_non_tensors[i])\n",
        "    user_tr_len.append(num_data)\n",
        "\n",
        "    user_train_data_tensors.append(torch.from_numpy(np.array(user_train_data_non_tensors[i])).type(torch.FloatTensor))\n",
        "    user_train_label_tensors.append(torch.from_numpy(np.array(user_train_label_non_tensors[i])).type(torch.LongTensor))\n",
        "\n",
        "    r=np.arange(num_data)\n",
        "\n",
        "    np.random.shuffle(r)\n",
        "\n",
        "    user_train_data_tensors[i] = user_train_data_tensors[i][r]\n",
        "    user_train_label_tensors[i] = user_train_label_tensors[i][r]\n",
        "\n",
        "    print(f'user {i} has {user_train_data_tensors[i].shape[0]} train data, and {user_train_label_tensors[i].shape[0]} train labels')\n",
        "\n"
      ]
    },
    {
      "cell_type": "code",
      "execution_count": 6,
      "metadata": {
        "id": "HSewQHUZnrc7"
      },
      "outputs": [],
      "source": [
        "X2 = []\n",
        "Y2 = []\n",
        "\n",
        "for i in range(len(cifar10_test)):\n",
        "    X2.append(cifar10_test[i][0].numpy())\n",
        "    Y2.append(cifar10_test[i][1])\n",
        "\n",
        "X2=np.array(X2)\n",
        "Y2=np.array(Y2)\n",
        "\n",
        "half_index = len(X2) // 2\n",
        "\n",
        "val_data= X2[:half_index]\n",
        "val_label= Y2[:half_index]\n",
        "\n",
        "te_data=X2[half_index:]\n",
        "te_label=Y2[half_index:]\n",
        "\n",
        "val_data_tensor=torch.from_numpy(val_data).type(torch.FloatTensor)\n",
        "val_label_tensor=torch.from_numpy(val_label).type(torch.LongTensor)\n",
        "\n",
        "te_data_tensor=torch.from_numpy(te_data).type(torch.FloatTensor)\n",
        "te_label_tensor=torch.from_numpy(te_label).type(torch.LongTensor)"
      ]
    },
    {
      "cell_type": "code",
      "execution_count": 7,
      "metadata": {
        "colab": {
          "base_uri": "https://localhost:8080/",
          "height": 583
        },
        "id": "M8vVcXSRnrc7",
        "outputId": "fcd9c277-87ad-46b4-d7bb-6e4fd2adad40"
      },
      "outputs": [
        {
          "data": {
            "image/png": "[encoded data removed]",
            "text/plain": [
              "<Figure size 1000x600 with 1 Axes>"
            ]
          },
          "metadata": {},
          "output_type": "display_data"
        }
      ],
      "source": [
        "import matplotlib.pyplot as plt\n",
        "import numpy as np\n",
        "from PIL import Image\n",
        "\n",
        "# Example data\n",
        "users = [f\"user {i}\" for i in range(50)]\n",
        "labels = [f\"label {i}\" for i in range(10)]\n",
        "\n",
        "\n",
        "percentages = []\n",
        "for user_data in user_train_label_non_tensors:\n",
        "    temp_holder = []\n",
        "    for label in range(10):\n",
        "        temp_holder.append(user_data.count(label))\n",
        "    percentages.append(temp_holder)\n",
        "\n",
        "percentages = np.array(percentages)\n",
        "\n",
        "# Assuming 'percentages' is populated correctly as shown previously\n",
        "# Convert percentages to cumulative sum for stacking\n",
        "cumulative = np.cumsum(percentages, axis=1)\n",
        "\n",
        "# Plot\n",
        "fig, ax = plt.subplots(figsize=(10, 6))\n",
        "\n",
        "# Colors for each ethnicity, ensuring there are enough colors for all labels\n",
        "colors = plt.cm.Paired(range(len(labels))) # Repeating colors to match the number of labels\n",
        "\n",
        "# Create stacked bars\n",
        "for i in range(len(labels)):  # Iterate over the number of labels\n",
        "    if i == 0:\n",
        "        ax.bar(users, percentages[:, i], color=colors[i], label=labels[i])\n",
        "    else:\n",
        "        ax.bar(users, percentages[:, i], bottom=cumulative[:, i-1], color=colors[i], label=labels[i])\n",
        "\n",
        "# Add some text for labels, title, and custom x-axis tick labels, etc.\n",
        "ax.set_ylabel('Percentage')\n",
        "ax.set_title('Stacked Percentage Bar Chart by User and Label')\n",
        "ax.set_xticks(np.arange(len(users)))\n",
        "ax.set_xticklabels(users, rotation=90)  # Rotate labels if needed\n",
        "ax.legend()\n",
        "\n",
        "\n",
        "plt.savefig('./non_iid_user_label_distribution.png', bbox_inches='tight')\n",
        "plt.show()\n"
      ]
    },
    {
      "cell_type": "markdown",
      "metadata": {
        "id": "WOVMqc_9nrc8"
      },
      "source": [
        "## Our Aggregation Function"
      ]
    },
    {
      "cell_type": "code",
      "execution_count": 8,
      "metadata": {
        "id": "LMgKiRnynrc8"
      },
      "outputs": [],
      "source": [
        "def our_mean_defense(all_updates, n_attackers, history_updates):\n",
        "    discarded_history = get_discarded_index(n_attackers, history_updates)\n",
        "\n",
        "    mask = torch.ones(all_updates.size(0), dtype=torch.bool)\n",
        "    mask[discarded_history] = False\n",
        "    remaining_updates = all_updates[mask]\n",
        "\n",
        "    print('discarded index', discarded_history)\n",
        "\n",
        "    return torch.nanmean(remaining_updates, dim=0)\n",
        "\n",
        "####\n",
        "def euclidean_distance(row1, row2):\n",
        "    return torch.sqrt(torch.sum((row1 - row2) ** 2))\n",
        "####\n",
        "\n",
        "def get_discarded_index(n_attackers, history_updates):\n",
        "    n_users = history_updates.shape[0]\n",
        "\n",
        "    ####\n",
        "    distance_matrix = [[0 if i == j else euclidean_distance(history_updates[i, :], history_updates[j, :]) for j in range(n_users)] for i in range(n_users)]\n",
        "    ####\n",
        "\n",
        "    sum_of_distances = [sum(row) for row in distance_matrix]\n",
        "\n",
        "    discarded_history = []\n",
        "    for _ in range(n_attackers):\n",
        "        max_distance = max(sum_of_distances)\n",
        "        index_of_max_distance = sum_of_distances.index(max_distance)\n",
        "        discarded_history.append(index_of_max_distance)\n",
        "\n",
        "        for i in range(n_users):\n",
        "            sum_of_distances[i] -= distance_matrix[i][index_of_max_distance]\n",
        "        sum_of_distances[index_of_max_distance] = -1\n",
        "\n",
        "    return discarded_history\n"
      ]
    },
    {
      "cell_type": "markdown",
      "metadata": {
        "id": "7yiHdOSknrc8"
      },
      "source": [
        "## Code for no defense aggregation algorithm"
      ]
    },
    {
      "cell_type": "code",
      "execution_count": 9,
      "metadata": {
        "id": "bDqjWvS-nrc8"
      },
      "outputs": [],
      "source": [
        "def no_defense_aggregation(user_grads):\n",
        "    return torch.nanmean(user_grads, dim=0)"
      ]
    },
    {
      "cell_type": "markdown",
      "metadata": {
        "id": "Eh9-2QXLnrc8"
      },
      "source": [
        "## our_attack_mean\n",
        "$ argmin_\\theta(\\ -L(\\theta_{attacker(s)}) + \\lambda_1 |\\bar{\\theta_{abs\\ mean\\ benige\\ users}} - \\bar{\\theta_{abs\\ attacker(s)}}|$"
      ]
    },
    {
      "cell_type": "code",
      "execution_count": 10,
      "metadata": {
        "id": "22HIfqLWn0KR"
      },
      "outputs": [],
      "source": [
        "device = 'cuda:0'\n",
        "def check_condition(lambda1, prev_grad, loss_grad, history, all_updates, n_users, n_attacker, epoch_num):\n",
        "    loss_grad = loss_grad.to(device)\n",
        "    prev_grad = prev_grad.to(device)\n",
        "    new_grad = lambda1 * (loss_grad + prev_grad)\n",
        "    \n",
        "    ####\n",
        "    mal_updates = torch.stack([new_grad.clone().detach() for _ in range(n_attacker)])\n",
        "    malicious_grads = torch.cat((mal_updates, all_updates[n_attacker:]), 0)\n",
        "\n",
        "    history_updates = history.clone().detach()\n",
        "    history_updates[:, epoch_num] = malicious_grads.abs().mean(dim=1, keepdim=True).squeeze()\n",
        "    ####\n",
        "\n",
        "    discarded_history = get_discarded_index(n_attacker, history_updates)\n",
        "\n",
        "    detected_mal = len([item for item in discarded_history if item < 10])\n",
        "    return detected_mal / len(discarded_history) <= n_attacker / n_users\n",
        "\n",
        "def find_upper_bound(lambda1, prev_grad, loss_grad, history, all_updates, n_users, n_attacker, epoch_num):\n",
        "    while check_condition(lambda1, prev_grad, loss_grad, history, all_updates, n_users, n_attacker, epoch_num):\n",
        "        lambda1 *= 2  # Exponentially increase lambda\n",
        "    return lambda1\n",
        "\n",
        "\n",
        "def projection(prev_grad, loss_grad, history, all_updates, n_users, n_attacker, epoch_num):\n",
        "    updates_abs_mean = all_updates.abs().mean(dim=1, keepdim=True)\n",
        "\n",
        "    ####\n",
        "    history_updates = history.clone().detach()\n",
        "    history_updates[:, epoch_num] = updates_abs_mean.mean(dim=1, keepdim=True).squeeze()\n",
        "    ####\n",
        "\n",
        "    lambda_low = 0\n",
        "    lambda_high = find_upper_bound(1, prev_grad, loss_grad, history_updates, all_updates, n_users, n_attacker, epoch_num)\n",
        "    tolerance = 1e-4\n",
        "\n",
        "    while lambda_high - lambda_low > tolerance:\n",
        "        lambda_mid = (lambda_low + lambda_high) / 2\n",
        "        if check_condition(lambda_mid, prev_grad, loss_grad, history_updates, all_updates, n_users, n_attacker, epoch_num):\n",
        "            lambda_low = lambda_mid\n",
        "        else:\n",
        "            lambda_high = lambda_mid\n",
        "\n",
        "    lambda1 = lambda_low\n",
        "\n",
        "    loss_grad = loss_grad.to(device)\n",
        "    prev_grad = prev_grad.to(device)\n",
        "    return lambda1 * (prev_grad + loss_grad)\n",
        "\n",
        "def our_attack_mean(n_user, epoch_num, history_updates, all_updates, model_params, n_attacker, arch, criterion, user_train_data_tensors, user_train_label_tensors):\n",
        "    attacker_tr_data_tensor = user_train_data_tensors[0].cuda()\n",
        "    attacker_tr_label_tensor = user_train_label_tensors[0].cuda()\n",
        "\n",
        "    fed_model, _ = return_model(arch, 0.1, 0.9, parallel=False)\n",
        "    fed_model.eval()  # Ensure the model is in evaluation mode\n",
        "\n",
        "    new_grad = -all_updates[0].clone().detach().requires_grad_(True)\n",
        "    prev_grad = np.zeros(len(new_grad))\n",
        "    new_grad = projection(torch.from_numpy(prev_grad), new_grad, history_updates, all_updates, n_user, n_attacker, epoch_num)\n",
        "\n",
        "    while True:\n",
        "        outputs = fed_model(attacker_tr_data_tensor)\n",
        "        loss = criterion(outputs, attacker_tr_label_tensor)\n",
        "\n",
        "        loss.backward(retain_graph=True)\n",
        "        param_grad = []\n",
        "        for param in fed_model.parameters():\n",
        "            param_grad.append(param.grad.view(-1).detach())\n",
        "\n",
        "        param_grad = torch.cat(param_grad)\n",
        "        prev_grad = new_grad\n",
        "        new_grad = projection(prev_grad, param_grad, history_updates, all_updates, n_user, n_attacker, epoch_num)\n",
        "\n",
        "        difference = torch.mean(torch.abs(new_grad - prev_grad)).item()\n",
        "        if difference < 1e-6:\n",
        "            # print(\"STOPPED! Difference is too small, stop finding best attack grad\")\n",
        "            break\n",
        "\n",
        "        fed_model.zero_grad()\n",
        "\n",
        "    result_attacker_grads = [new_grad.clone().detach() for _ in range(10)]\n",
        "    return torch.stack(result_attacker_grads).cuda()\n"
      ]
    },
    {
      "cell_type": "markdown",
      "metadata": {
        "id": "1CGm85rwnrc8"
      },
      "source": [
        "## Set number of epochs"
      ]
    },
    {
      "cell_type": "code",
      "execution_count": 13,
      "metadata": {
        "id": "1umXispUnrc9"
      },
      "outputs": [],
      "source": [
        "nepochs= 300"
      ]
    },
    {
      "cell_type": "markdown",
      "metadata": {
        "id": "ilTYNiZMlvp4"
      },
      "source": [
        "## no defense"
      ]
    },
    {
      "cell_type": "code",
      "execution_count": 14,
      "metadata": {
        "colab": {
          "base_uri": "https://localhost:8080/",
          "height": 724
        },
        "id": "X5K48z4IdqBQ",
        "outputId": "44caaead-e9f7-45b8-a203-d81154a7c1c8"
      },
      "outputs": [
        {
          "name": "stdout",
          "output_type": "stream",
          "text": [
            "epoch: 0, bulyan: at our-agr n_at 10 e 0 | val loss 2.3030 val acc 11.8912 best val_acc 11.891234\n"
          ]
        },
        {
          "name": "stderr",
          "output_type": "stream",
          "text": [
            "C:\\Users\\Hizan\\AppData\\Local\\Temp\\ipykernel_8848\\3641091555.py:132: FutureWarning: The behavior of DataFrame concatenation with empty or all-NA entries is deprecated. In a future version, this will no longer exclude empty or all-NA columns when determining the result dtypes. To retain the old behavior, exclude the relevant entries before the concat operation.\n",
            "  df = pd.concat([df, new_row], ignore_index=True)\n"
          ]
        },
        {
          "name": "stdout",
          "output_type": "stream",
          "text": [
            "epoch: 1, bulyan: at our-agr n_at 10 e 1 | val loss 2.3028 val acc 9.8011 best val_acc 11.891234\n",
            "epoch: 2, bulyan: at our-agr n_at 10 e 2 | val loss 2.3028 val acc 10.0244 best val_acc 11.891234\n",
            "epoch: 3, bulyan: at our-agr n_at 10 e 3 | val loss 2.3029 val acc 9.6997 best val_acc 11.891234\n",
            "epoch: 4, bulyan: at our-agr n_at 10 e 4 | val loss 2.3031 val acc 9.6997 best val_acc 11.891234\n",
            "epoch: 5, bulyan: at our-agr n_at 10 e 5 | val loss 2.3034 val acc 9.6997 best val_acc 11.891234\n",
            "epoch: 6, bulyan: at our-agr n_at 10 e 6 | val loss 2.3040 val acc 9.6997 best val_acc 11.891234\n",
            "epoch: 7, bulyan: at our-agr n_at 10 e 7 | val loss 2.3046 val acc 9.6997 best val_acc 11.891234\n",
            "epoch: 8, bulyan: at our-agr n_at 10 e 8 | val loss 2.3036 val acc 9.6997 best val_acc 11.891234\n",
            "epoch: 9, bulyan: at our-agr n_at 10 e 9 | val loss 2.3026 val acc 9.6997 best val_acc 11.891234\n",
            "epoch: 10, bulyan: at our-agr n_at 10 e 10 | val loss 2.3017 val acc 9.6997 best val_acc 11.891234\n",
            "epoch: 11, bulyan: at our-agr n_at 10 e 11 | val loss 2.3007 val acc 9.6997 best val_acc 11.891234\n",
            "epoch: 12, bulyan: at our-agr n_at 10 e 12 | val loss 2.2996 val acc 9.6997 best val_acc 11.891234\n",
            "epoch: 13, bulyan: at our-agr n_at 10 e 13 | val loss 2.2983 val acc 10.3896 best val_acc 11.891234\n",
            "epoch: 14, bulyan: at our-agr n_at 10 e 14 | val loss 2.2970 val acc 11.4245 best val_acc 11.891234\n",
            "epoch: 15, bulyan: at our-agr n_at 10 e 15 | val loss 2.2954 val acc 12.6623 best val_acc 12.662338\n",
            "epoch: 16, bulyan: at our-agr n_at 10 e 16 | val loss 2.2934 val acc 13.6364 best val_acc 13.636364\n",
            "epoch: 17, bulyan: at our-agr n_at 10 e 17 | val loss 2.2909 val acc 13.7581 best val_acc 13.758117\n",
            "epoch: 18, bulyan: at our-agr n_at 10 e 18 | val loss 2.2879 val acc 13.7378 best val_acc 13.758117\n",
            "epoch: 19, bulyan: at our-agr n_at 10 e 19 | val loss 2.2840 val acc 13.5146 best val_acc 13.758117\n",
            "epoch: 20, bulyan: at our-agr n_at 10 e 20 | val loss 2.2789 val acc 13.0276 best val_acc 13.758117\n",
            "epoch: 21, bulyan: at our-agr n_at 10 e 21 | val loss 2.2719 val acc 12.7435 best val_acc 13.758117\n",
            "epoch: 22, bulyan: at our-agr n_at 10 e 22 | val loss 2.2630 val acc 12.9464 best val_acc 13.758117\n",
            "epoch: 23, bulyan: at our-agr n_at 10 e 23 | val loss 2.2516 val acc 13.4943 best val_acc 13.758117\n",
            "epoch: 24, bulyan: at our-agr n_at 10 e 24 | val loss 2.2383 val acc 14.9351 best val_acc 14.935065\n",
            "epoch: 25, bulyan: at our-agr n_at 10 e 25 | val loss 2.2234 val acc 15.6453 best val_acc 15.645292\n",
            "epoch: 26, bulyan: at our-agr n_at 10 e 26 | val loss 2.2068 val acc 17.0252 best val_acc 17.025162\n",
            "epoch: 27, bulyan: at our-agr n_at 10 e 27 | val loss 2.1881 val acc 18.5471 best val_acc 18.547078\n",
            "epoch: 28, bulyan: at our-agr n_at 10 e 28 | val loss 2.1715 val acc 18.7500 best val_acc 18.750000\n",
            "epoch: 29, bulyan: at our-agr n_at 10 e 29 | val loss 2.2109 val acc 16.9237 best val_acc 18.750000\n",
            "epoch: 30, bulyan: at our-agr n_at 10 e 30 | val loss 2.6861 val acc 9.8823 best val_acc 18.750000\n",
            "epoch: 31, bulyan: at our-agr n_at 10 e 31 | val loss 2.3058 val acc 10.6128 best val_acc 18.750000\n",
            "epoch: 32, bulyan: at our-agr n_at 10 e 32 | val loss 2.3002 val acc 11.0593 best val_acc 18.750000\n",
            "epoch: 33, bulyan: at our-agr n_at 10 e 33 | val loss 2.2954 val acc 10.9781 best val_acc 18.750000\n",
            "epoch: 34, bulyan: at our-agr n_at 10 e 34 | val loss 2.2906 val acc 11.0187 best val_acc 18.750000\n",
            "epoch: 35, bulyan: at our-agr n_at 10 e 35 | val loss 2.2853 val acc 10.9984 best val_acc 18.750000\n",
            "epoch: 36, bulyan: at our-agr n_at 10 e 36 | val loss 2.2800 val acc 10.9781 best val_acc 18.750000\n",
            "epoch: 37, bulyan: at our-agr n_at 10 e 37 | val loss 2.2739 val acc 10.9984 best val_acc 18.750000\n",
            "epoch: 38, bulyan: at our-agr n_at 10 e 38 | val loss 2.2675 val acc 10.9578 best val_acc 18.750000\n",
            "epoch: 39, bulyan: at our-agr n_at 10 e 39 | val loss 2.2612 val acc 10.9984 best val_acc 18.750000\n",
            "epoch: 40, bulyan: at our-agr n_at 10 e 40 | val loss 2.2543 val acc 10.9375 best val_acc 18.750000\n",
            "epoch: 41, bulyan: at our-agr n_at 10 e 41 | val loss 2.2478 val acc 11.2013 best val_acc 18.750000\n",
            "epoch: 42, bulyan: at our-agr n_at 10 e 42 | val loss 2.2409 val acc 11.1607 best val_acc 18.750000\n",
            "epoch: 43, bulyan: at our-agr n_at 10 e 43 | val loss 2.2342 val acc 12.4797 best val_acc 18.750000\n",
            "epoch: 44, bulyan: at our-agr n_at 10 e 44 | val loss 2.2278 val acc 12.8856 best val_acc 18.750000\n",
            "epoch: 45, bulyan: at our-agr n_at 10 e 45 | val loss 2.2218 val acc 14.0828 best val_acc 18.750000\n",
            "epoch: 46, bulyan: at our-agr n_at 10 e 46 | val loss 2.2163 val acc 17.9383 best val_acc 18.750000\n"
          ]
        }
      ],
      "source": [
        "batch_size=250\n",
        "resume=0\n",
        "\n",
        "schedule=[1000]\n",
        "\n",
        "gamma=.5\n",
        "opt = 'sgd'\n",
        "fed_lr=0.5\n",
        "criterion=nn.CrossEntropyLoss()\n",
        "use_cuda = torch.cuda.is_available()\n",
        "\n",
        "aggregation='bulyan'\n",
        "multi_k = False\n",
        "candidates = []\n",
        "\n",
        "at_type='our-agr'\n",
        "dev_type ='std'\n",
        "n_attackers=[10]\n",
        "\n",
        "arch='alexnet'\n",
        "chkpt='./'+aggregation\n",
        "\n",
        "past_mean = []\n",
        "past_abs_sum = []\n",
        "past_median = []\n",
        "past_lower_quartile = []\n",
        "past_upper_quartile = []\n",
        "past_std = []\n",
        "\n",
        "\n",
        "for n_attacker in n_attackers:\n",
        "    epoch_num = 0\n",
        "    best_global_acc = 0\n",
        "    best_global_te_acc = 0\n",
        "\n",
        "    torch.cuda.empty_cache()\n",
        "\n",
        "    fed_model, _ = return_model(arch, 0.1, 0.9, parallel=False)\n",
        "    optimizer_fed = SGD(fed_model.parameters(), lr=fed_lr)\n",
        "\n",
        "    df = pd.DataFrame(columns = ['epoch', 'loss', 'validation accuracy', 'best validation accuracy'])\n",
        "\n",
        "    ####\n",
        "    history = torch.zeros((n_users, nepochs + 1), dtype=torch.float32).cuda()\n",
        "    ####\n",
        "    \n",
        "    model_grads = []\n",
        "    flag = False\n",
        "    while epoch_num <= nepochs:\n",
        "        user_grads=[]\n",
        "\n",
        "        for i in range(n_users): # 50\n",
        "            nbatches = user_tr_len[i]//batch_size\n",
        "\n",
        "            inputs = user_train_data_tensors[i][(epoch_num%nbatches)*batch_size:((epoch_num%nbatches) + 1) * batch_size]\n",
        "            targets = user_train_label_tensors[i][(epoch_num%nbatches)*batch_size:((epoch_num%nbatches) + 1) * batch_size]\n",
        "\n",
        "            targets = targets.type(torch.LongTensor)\n",
        "\n",
        "            inputs, targets = inputs.cuda(), targets.cuda()\n",
        "            inputs, targets = torch.autograd.Variable(inputs), torch.autograd.Variable(targets)\n",
        "\n",
        "            outputs = fed_model(inputs)\n",
        "            loss = criterion(outputs, targets)\n",
        "            fed_model.zero_grad()\n",
        "            loss.backward(retain_graph=True)\n",
        "\n",
        "            param_grad=[]\n",
        "            for param in fed_model.parameters():\n",
        "                param_grad=param.grad.data.view(-1) if not len(param_grad) else torch.cat((param_grad,param.grad.view(-1)))\n",
        "\n",
        "\n",
        "            user_grads=param_grad[None, :] if len(user_grads)==0 else torch.cat((user_grads,param_grad[None,:]), 0)\n",
        "\n",
        "        if epoch_num in schedule:\n",
        "            for param_group in optimizer_fed.param_groups:\n",
        "                param_group['lr'] *= gamma\n",
        "                print('New learnin rate ', param_group['lr'])\n",
        "\n",
        "        updates_abs_mean = user_grads.abs().mean(dim=1, keepdim=True)\n",
        "\n",
        "        if n_attacker > 0:\n",
        "            model_params = torch.cat([p.data.view(-1) for p in fed_model.parameters()])\n",
        "            mal_updates = our_attack_mean(n_users, epoch_num, history, user_grads, model_params, n_attacker, arch, criterion, user_train_data_tensors, user_train_label_tensors)\n",
        "            malicious_grads = torch.cat((mal_updates, user_grads[n_attacker:]), 0) # torch.Size([50, 2472266])\n",
        "        else:   # No attack\n",
        "            malicious_grads = user_grads\n",
        "\n",
        "        if not (malicious_grads.shape[0]==50):\n",
        "            print(malicious_grads.shape)\n",
        "\n",
        "        updates_abs_mean = malicious_grads.abs().mean(dim=1, keepdim=True)\n",
        "\n",
        "        history[:, epoch_num] = updates_abs_mean.squeeze()\n",
        "        agg_grads = no_defense_aggregation(malicious_grads)\n",
        "        # agg_grads = our_mean_defense(malicious_grads, n_attacker, history)\n",
        "\n",
        "        del user_grads\n",
        "\n",
        "        start_idx=0\n",
        "\n",
        "        optimizer_fed.zero_grad()\n",
        "\n",
        "        model_grads=[]\n",
        "\n",
        "        for i, param in enumerate(fed_model.parameters()):\n",
        "            param_=agg_grads[start_idx:start_idx+len(param.data.view(-1))].reshape(param.data.shape)\n",
        "            start_idx=start_idx+len(param.data.view(-1))\n",
        "            param_=param_.cuda()\n",
        "            model_grads.append(param_)\n",
        "\n",
        "        optimizer_fed.step(model_grads)\n",
        "\n",
        "        val_loss, val_acc = test(val_data_tensor,val_label_tensor,fed_model,criterion,use_cuda)\n",
        "        te_loss, te_acc = test(te_data_tensor,te_label_tensor, fed_model, criterion, use_cuda)\n",
        "\n",
        "        is_best = best_global_acc < val_acc\n",
        "\n",
        "        best_global_acc = max(best_global_acc, val_acc)\n",
        "\n",
        "        if is_best:\n",
        "            best_global_te_acc = te_acc\n",
        "\n",
        "\n",
        "        print('epoch: %d, %s: at %s n_at %d e %d | val loss %.4f val acc %.4f best val_acc %f'%(epoch_num, aggregation, at_type, n_attacker, epoch_num, val_loss, val_acc, best_global_acc))\n",
        "        new_row = pd.DataFrame([{\n",
        "            'epoch': epoch_num,\n",
        "            'loss': val_loss,\n",
        "            'validation accuracy': val_acc,\n",
        "            'best validation accuracy': best_global_acc\n",
        "            }])\n",
        "        df = pd.concat([df, new_row], ignore_index=True)\n",
        "        df.to_csv('./our attack + 10 attacker + our defense.csv', index=False)\n",
        "\n",
        "        if val_loss > 1000:\n",
        "            print('val loss %f too high'%val_loss)\n",
        "            break\n",
        "\n",
        "        epoch_num+=1"
      ]
    },
    {
      "cell_type": "code",
      "execution_count": null,
      "metadata": {
        "id": "PC6T3x8SdqBR"
      },
      "outputs": [],
      "source": [
        "import matplotlib.pyplot as plt\n",
        "\n",
        "# Plotting the data\n",
        "for col in ['loss', 'validation accuracy', 'best validation accuracy']:\n",
        "    plt.plot(df['epoch'].tolist(), df[col].tolist())\n",
        "    plt.title(\"our attack + 10 attacker + no defense_\"+col)\n",
        "    plt.savefig('./our attack + 10 attacker + no defense ' + col + '.png')\n",
        "    plt.show()"
      ]
    },
    {
      "cell_type": "markdown",
      "metadata": {},
      "source": [
        "## No Attack"
      ]
    },
    {
      "cell_type": "code",
      "execution_count": null,
      "metadata": {},
      "outputs": [],
      "source": [
        "batch_size=250\n",
        "resume=0\n",
        "\n",
        "schedule=[1000]\n",
        "\n",
        "gamma=.5\n",
        "opt = 'sgd'\n",
        "fed_lr=0.5\n",
        "criterion=nn.CrossEntropyLoss()\n",
        "use_cuda = torch.cuda.is_available()\n",
        "\n",
        "aggregation='bulyan'\n",
        "multi_k = False\n",
        "candidates = []\n",
        "\n",
        "at_type='our-agr'\n",
        "dev_type ='std'\n",
        "n_attackers=[0]\n",
        "\n",
        "arch='alexnet'\n",
        "chkpt='./'+aggregation\n",
        "\n",
        "past_mean = []\n",
        "past_abs_sum = []\n",
        "past_median = []\n",
        "past_lower_quartile = []\n",
        "past_upper_quartile = []\n",
        "past_std = []\n",
        "\n",
        "\n",
        "for n_attacker in n_attackers:\n",
        "    epoch_num = 0\n",
        "    best_global_acc = 0\n",
        "    best_global_te_acc = 0\n",
        "\n",
        "    torch.cuda.empty_cache()\n",
        "\n",
        "    fed_model, _ = return_model(arch, 0.1, 0.9, parallel=False)\n",
        "    optimizer_fed = SGD(fed_model.parameters(), lr=fed_lr)\n",
        "\n",
        "    df = pd.DataFrame(columns = ['epoch', 'loss', 'validation accuracy', 'best validation accuracy'])\n",
        "\n",
        "    ####\n",
        "    history = torch.zeros((n_users, nepochs + 1), dtype=torch.float32).cuda()\n",
        "    ####\n",
        "    \n",
        "    model_grads = []\n",
        "    flag = False\n",
        "    while epoch_num <= nepochs:\n",
        "        user_grads=[]\n",
        "\n",
        "        for i in range(n_users): # 50\n",
        "            nbatches = user_tr_len[i]//batch_size\n",
        "\n",
        "            inputs = user_train_data_tensors[i][(epoch_num%nbatches)*batch_size:((epoch_num%nbatches) + 1) * batch_size]\n",
        "            targets = user_train_label_tensors[i][(epoch_num%nbatches)*batch_size:((epoch_num%nbatches) + 1) * batch_size]\n",
        "\n",
        "            targets = targets.type(torch.LongTensor)\n",
        "\n",
        "            inputs, targets = inputs.cuda(), targets.cuda()\n",
        "            inputs, targets = torch.autograd.Variable(inputs), torch.autograd.Variable(targets)\n",
        "\n",
        "            outputs = fed_model(inputs)\n",
        "            loss = criterion(outputs, targets)\n",
        "            fed_model.zero_grad()\n",
        "            loss.backward(retain_graph=True)\n",
        "\n",
        "            param_grad=[]\n",
        "            for param in fed_model.parameters():\n",
        "                param_grad=param.grad.data.view(-1) if not len(param_grad) else torch.cat((param_grad,param.grad.view(-1)))\n",
        "\n",
        "\n",
        "            user_grads=param_grad[None, :] if len(user_grads)==0 else torch.cat((user_grads,param_grad[None,:]), 0)\n",
        "\n",
        "        if epoch_num in schedule:\n",
        "            for param_group in optimizer_fed.param_groups:\n",
        "                param_group['lr'] *= gamma\n",
        "                print('New learnin rate ', param_group['lr'])\n",
        "\n",
        "        updates_abs_mean = user_grads.abs().mean(dim=1, keepdim=True)\n",
        "\n",
        "        if n_attacker > 0:\n",
        "            model_params = torch.cat([p.data.view(-1) for p in fed_model.parameters()])\n",
        "            mal_updates = our_attack_mean(n_users, epoch_num, history, user_grads, model_params, n_attacker, arch, criterion, user_train_data_tensors, user_train_label_tensors)\n",
        "            malicious_grads = torch.cat((mal_updates, user_grads[n_attacker:]), 0) # torch.Size([50, 2472266])\n",
        "        else:   # No attack\n",
        "            malicious_grads = user_grads\n",
        "\n",
        "        if not (malicious_grads.shape[0]==50):\n",
        "            print(malicious_grads.shape)\n",
        "\n",
        "        updates_abs_mean = malicious_grads.abs().mean(dim=1, keepdim=True)\n",
        "\n",
        "        history[:, epoch_num] = updates_abs_mean.squeeze()\n",
        "        # agg_grads = no_defense_aggregation(malicious_grads)\n",
        "        agg_grads = our_mean_defense(malicious_grads, n_attacker, history)\n",
        "\n",
        "        del user_grads\n",
        "\n",
        "        start_idx=0\n",
        "\n",
        "        optimizer_fed.zero_grad()\n",
        "\n",
        "        model_grads=[]\n",
        "\n",
        "        for i, param in enumerate(fed_model.parameters()):\n",
        "            param_=agg_grads[start_idx:start_idx+len(param.data.view(-1))].reshape(param.data.shape)\n",
        "            start_idx=start_idx+len(param.data.view(-1))\n",
        "            param_=param_.cuda()\n",
        "            model_grads.append(param_)\n",
        "\n",
        "        optimizer_fed.step(model_grads)\n",
        "\n",
        "        val_loss, val_acc = test(val_data_tensor,val_label_tensor,fed_model,criterion,use_cuda)\n",
        "        te_loss, te_acc = test(te_data_tensor,te_label_tensor, fed_model, criterion, use_cuda)\n",
        "\n",
        "        is_best = best_global_acc < val_acc\n",
        "\n",
        "        best_global_acc = max(best_global_acc, val_acc)\n",
        "\n",
        "        if is_best:\n",
        "            best_global_te_acc = te_acc\n",
        "\n",
        "\n",
        "        print('epoch: %d, %s: at %s n_at %d e %d | val loss %.4f val acc %.4f best val_acc %f'%(epoch_num, aggregation, at_type, n_attacker, epoch_num, val_loss, val_acc, best_global_acc))\n",
        "        new_row = pd.DataFrame([{\n",
        "            'epoch': epoch_num,\n",
        "            'loss': val_loss,\n",
        "            'validation accuracy': val_acc,\n",
        "            'best validation accuracy': best_global_acc\n",
        "            }])\n",
        "        df = pd.concat([df, new_row], ignore_index=True)\n",
        "        df.to_csv('./our attack + 10 attacker + our defense.csv', index=False)\n",
        "\n",
        "        if val_loss > 1000:\n",
        "            print('val loss %f too high'%val_loss)\n",
        "            break\n",
        "\n",
        "        epoch_num+=1"
      ]
    },
    {
      "cell_type": "markdown",
      "metadata": {
        "id": "T_CfL1Rlnrc9"
      },
      "source": [
        "## Execute our attack + 10 attacker + our defense"
      ]
    },
    {
      "cell_type": "code",
      "execution_count": null,
      "metadata": {
        "id": "IRytxw-8lVbB"
      },
      "outputs": [],
      "source": [
        "import matplotlib.pyplot as plt\n",
        "import numpy as np\n",
        "\n",
        "ne =  304\n",
        "\n",
        "for j in range(10):\n",
        "  plt.figure(figsize=(10, 6))\n",
        "  x = np.arange(ne)\n",
        "  for i in range(40):\n",
        "      y = history[i+10]\n",
        "      plt.plot(x, y, color='green')\n",
        "\n",
        "  # for i in range(10):\n",
        "  #     y = history[i]\n",
        "  #     plt.plot(x, y, color='red')\n",
        "  y = history[j]\n",
        "  plt.plot(x, y, color='red')\n",
        "\n",
        "\n",
        "  plt.title('history')\n",
        "  plt.xlabel('epoch')\n",
        "  plt.ylabel('mean')\n",
        "  plt.legend()\n",
        "  plt.grid(True)\n",
        "  plt.savefig('./history_malicious_'+str(j)+'.png')\n",
        "  plt.show()"
      ]
    },
    {
      "cell_type": "code",
      "execution_count": null,
      "metadata": {
        "id": "mgixfWyxlOT9"
      },
      "outputs": [],
      "source": [
        "ne = 304\n",
        "\n",
        "plt.figure(figsize=(10, 6))\n",
        "x = np.arange(ne)\n",
        "for i in range(40):\n",
        "    y = history[i+10]\n",
        "    plt.plot(x, y, color='green')\n",
        "\n",
        "for i in range(10):\n",
        "    y = history[i]\n",
        "    plt.plot(x, y, color='red')\n",
        "\n",
        "plt.title('history')\n",
        "plt.xlabel('epoch')\n",
        "plt.ylabel('mean')\n",
        "plt.legend()\n",
        "plt.grid(True)\n",
        "plt.show()"
      ]
    },
    {
      "cell_type": "code",
      "execution_count": null,
      "metadata": {
        "id": "I72iJwnddqBQ"
      },
      "outputs": [],
      "source": [
        "import matplotlib.pyplot as plt\n",
        "\n",
        "# Plotting the data\n",
        "for col in ['loss', 'validation accuracy', 'best validation accuracy']:\n",
        "    plt.plot(df['epoch'].tolist(), df[col].tolist())\n",
        "    plt.title(\"our attack + 10 attacker + our defense_\"+col)\n",
        "    plt.savefig('./our attack + 10 attacker + our defense ' + col + '.png')\n",
        "    plt.show()"
      ]
    }
  ],
  "metadata": {
    "colab": {
      "collapsed_sections": [
        "30lMESBcTtGp",
        "ilTYNiZMlvp4"
      ],
      "provenance": []
    },
    "kernelspec": {
      "display_name": "Python 3",
      "name": "python3"
    },
    "language_info": {
      "codemirror_mode": {
        "name": "ipython",
        "version": 3
      },
      "file_extension": ".py",
      "mimetype": "text/x-python",
      "name": "python",
      "nbconvert_exporter": "python",
      "pygments_lexer": "ipython3",
      "version": "3.9.18"
    }
  },
  "nbformat": 4,
  "nbformat_minor": 0
}
